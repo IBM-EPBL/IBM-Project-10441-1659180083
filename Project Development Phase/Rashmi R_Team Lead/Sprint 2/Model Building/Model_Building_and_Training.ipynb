{
  "nbformat": 4,
  "nbformat_minor": 0,
  "metadata": {
    "colab": {
      "provenance": []
    },
    "kernelspec": {
      "name": "python3",
      "display_name": "Python 3"
    },
    "language_info": {
      "name": "python"
    }
  },
  "cells": [
    {
      "cell_type": "code",
      "execution_count": null,
      "metadata": {
        "id": "C7-PyVfi081F"
      },
      "outputs": [],
      "source": []
    },
    {
      "cell_type": "code",
      "source": [
        "# Splitting the dataset into training and test set.  \n",
        "from sklearn.model_selection import train_test_split  \n",
        "x_train, x_test, y_train, y_test= train_test_split(x, y, test_size= 0.25, random_state=2)"
      ],
      "metadata": {
        "id": "uty-CPxqxKmT"
      },
      "execution_count": null,
      "outputs": []
    },
    {
      "cell_type": "code",
      "source": [
        "from sklearn.preprocessing import StandardScaler\n",
        "st_x= StandardScaler()\n",
        "x_train= st_x.fit_transform(x_train)\n",
        "x_test= st_x.transform(x_test)"
      ],
      "metadata": {
        "id": "1GOPS08NxLZR"
      },
      "execution_count": null,
      "outputs": []
    },
    {
      "cell_type": "code",
      "source": [
        "#Fitting Decision Tree classifier to the training set  \n",
        "from sklearn.ensemble import RandomForestClassifier  \n",
        "classifier= RandomForestClassifier(n_estimators= 10, criterion=\"entropy\")\n",
        "classifier.fit(x_train, y_train)"
      ],
      "metadata": {
        "colab": {
          "base_uri": "https://localhost:8080/"
        },
        "id": "mg4uNMbcxOfG",
        "outputId": "70c7cb87-9a6f-4b04-f4dd-d843185efeb3"
      },
      "execution_count": null,
      "outputs": [
        {
          "output_type": "execute_result",
          "data": {
            "text/plain": [
              "RandomForestClassifier(criterion='entropy', n_estimators=10)"
            ]
          },
          "metadata": {},
          "execution_count": 55
        }
      ]
    },
    {
      "cell_type": "code",
      "source": [
        "from sklearn.metrics import accuracy_score"
      ],
      "metadata": {
        "id": "QjsGB9b6zfbe"
      },
      "execution_count": null,
      "outputs": []
    },
    {
      "cell_type": "code",
      "source": [
        "train_acc=classifier.predict(x_train)\n",
        "accuracy_score(train_acc,y_train)"
      ],
      "metadata": {
        "colab": {
          "base_uri": "https://localhost:8080/"
        },
        "id": "FwYw3ZIcxRGG",
        "outputId": "32421d1b-af6b-4aad-c10d-a29a4953e1df"
      },
      "execution_count": null,
      "outputs": [
        {
          "output_type": "execute_result",
          "data": {
            "text/plain": [
              "0.9964080459770115"
            ]
          },
          "metadata": {},
          "execution_count": 59
        }
      ]
    },
    {
      "cell_type": "code",
      "source": [
        "#Predicting the test set result  \n",
        "y_pred= classifier.predict(x_test)"
      ],
      "metadata": {
        "id": "jexRwNQfxRN5"
      },
      "execution_count": null,
      "outputs": []
    },
    {
      "cell_type": "code",
      "source": [
        "y_pred"
      ],
      "metadata": {
        "colab": {
          "base_uri": "https://localhost:8080/"
        },
        "id": "PUv0edjbxLit",
        "outputId": "bb7ae94f-3714-4195-e580-a3abf2ca63c0"
      },
      "execution_count": null,
      "outputs": [
        {
          "output_type": "execute_result",
          "data": {
            "text/plain": [
              "array([0, 2, 1, 0, 1, 2, 0, 1, 1, 0, 2, 1, 1, 1, 2, 2, 1, 1, 2, 2, 0, 0,\n",
              "       0, 1, 1, 1, 1, 1, 2, 1, 1, 1, 1, 1, 0, 1, 0, 0, 1, 1, 2, 0, 1, 2,\n",
              "       1, 0, 0, 2, 0, 1, 0, 0, 0, 0, 2, 0, 0, 1, 1, 1, 2, 1, 1, 2, 0, 0,\n",
              "       1, 0, 1, 0, 1, 1, 0, 0, 1, 0, 1, 1, 2, 2, 1, 0, 0, 1, 1, 0, 0, 1,\n",
              "       0, 0, 1, 0, 1, 1, 2, 0, 1, 0, 2, 1, 1, 0, 2, 0, 2, 1, 2, 0, 0, 2,\n",
              "       2, 1, 1, 1, 0, 0, 0, 0, 1, 0, 0, 1, 2, 0, 1, 0, 0, 0, 1, 1, 2, 1,\n",
              "       1, 1, 2, 1, 0, 1, 1, 2, 2, 1, 1, 0, 1, 0, 1, 0, 2, 0, 2, 1, 0, 1,\n",
              "       0, 0, 2, 1, 1, 2, 0, 1, 0, 0, 0, 2, 0, 1, 1, 1, 1, 2, 0, 1, 0, 1,\n",
              "       0, 0, 0, 1, 0, 0, 0, 0, 2, 0, 1, 1, 0, 0, 1, 1, 0, 1, 0, 1, 0, 1,\n",
              "       1, 0, 2, 0, 1, 0, 1, 0, 1, 0, 1, 0, 0, 2, 1, 1, 0, 2, 0, 1, 1, 2,\n",
              "       1, 2, 0, 0, 0, 1, 0, 1, 1, 0, 2, 1, 0, 0, 2, 0, 2, 1, 1, 0, 0, 1,\n",
              "       1, 1, 2, 0, 0, 1, 0, 1, 2, 0, 1, 0, 1, 1, 0, 2, 0, 1, 0, 2, 1, 1,\n",
              "       0, 1, 2, 1, 0, 1, 1, 0, 0, 0, 0, 1, 0, 0, 1, 1, 0, 1, 2, 1, 1, 0,\n",
              "       0, 1, 1, 1, 0, 0, 2, 0, 0, 2, 2, 0, 0, 0, 2, 0, 0, 1, 1, 0, 0, 1,\n",
              "       1, 0, 1, 2, 1, 0, 0, 1, 0, 0, 1, 0, 0, 0, 2, 0, 1, 0, 1, 0, 0, 1,\n",
              "       0, 0, 2, 0, 0, 1, 2, 1, 0, 1, 0, 2, 0, 2, 0, 0, 1, 1, 1, 1, 2, 1,\n",
              "       0, 1, 0, 1, 1, 0, 1, 1, 2, 0, 1, 0, 0, 0, 1, 0, 0, 2, 0, 1, 0, 0,\n",
              "       0, 2, 0, 0, 0, 2, 0, 1, 1, 0, 0, 0, 0, 1, 1, 0, 0, 0, 0, 1, 1, 0,\n",
              "       0, 1, 0, 1, 1, 0, 0, 1, 0, 1, 0, 0, 0, 0, 0, 1, 1, 2, 0, 0, 1, 1,\n",
              "       0, 0, 1, 0, 2, 1, 0, 2, 0, 0, 1, 1, 1, 0, 1, 0, 0, 0, 0, 1, 0, 1,\n",
              "       2, 2, 0, 0, 1, 2, 2, 2, 1, 2, 1, 1, 1, 0, 0, 2, 1, 0, 0, 0, 0, 1,\n",
              "       0, 0])"
            ]
          },
          "metadata": {},
          "execution_count": 63
        }
      ]
    },
    {
      "cell_type": "code",
      "source": [
        "#Creating the Confusion matrix  \n",
        "from sklearn.metrics import confusion_matrix  \n",
        "cm= confusion_matrix(y_test, y_pred)"
      ],
      "metadata": {
        "id": "ryJRrvobxZRH"
      },
      "execution_count": null,
      "outputs": []
    },
    {
      "cell_type": "code",
      "source": [
        "cm"
      ],
      "metadata": {
        "colab": {
          "base_uri": "https://localhost:8080/"
        },
        "id": "uZas0KsDxZWS",
        "outputId": "47f68137-7f93-4a44-c1b1-35ccb6dc0876"
      },
      "execution_count": null,
      "outputs": [
        {
          "output_type": "execute_result",
          "data": {
            "text/plain": [
              "array([[201,   8,   5,   0],\n",
              "       [  6, 161,   5,   0],\n",
              "       [  1,  13,  62,   0],\n",
              "       [  0,   0,   2,   0]])"
            ]
          },
          "metadata": {},
          "execution_count": 65
        }
      ]
    },
    {
      "cell_type": "code",
      "source": [
        "from sklearn.metrics import accuracy_score, classification_report\n",
        "accuracy_score(y_test, y_pred)"
      ],
      "metadata": {
        "colab": {
          "base_uri": "https://localhost:8080/"
        },
        "id": "UOc2ZAksxZc6",
        "outputId": "bd5303f9-18ba-4f2f-cb52-f6f61c16ea8a"
      },
      "execution_count": null,
      "outputs": [
        {
          "output_type": "execute_result",
          "data": {
            "text/plain": [
              "0.9137931034482759"
            ]
          },
          "metadata": {},
          "execution_count": 66
        }
      ]
    },
    {
      "cell_type": "code",
      "source": [
        "pred=(29.6,5.7,7.2,189.0,2.0,0.2,4953.0, 8391.0, 2014)\n",
        "data=np.asarray(pred)\n",
        "reshape_d=data.reshape(1,-1)\n",
        "std=st_x.fit_transform(reshape_d)\n",
        "p=classifier.predict(std)\n",
        "if(p==0):{\n",
        "    print(\"Thw water quality is Very Bad\")\n",
        "}\n",
        "if(p==1):{\n",
        "    print(\"Thw water quality is Poor \")\n",
        "}\n",
        "if(p==2):{\n",
        "    print(\"The water quality is Good\")\n",
        "}\n",
        "if(p==3):{\n",
        "    print(\"The water quality is Excellent\")\n",
        "}"
      ],
      "metadata": {
        "colab": {
          "base_uri": "https://localhost:8080/"
        },
        "id": "E0WcKj_LxaEL",
        "outputId": "adfcbac1-ad13-4858-826b-f8215706180f"
      },
      "execution_count": null,
      "outputs": [
        {
          "output_type": "stream",
          "name": "stdout",
          "text": [
            "Thw water quality is Very Bad\n"
          ]
        }
      ]
    },
    {
      "cell_type": "code",
      "source": [
        "import pickle \n",
        "pickle.dump(y_pred, open('wqi.pkl', 'wb')) \n",
        "model = pickle.load(open('wqi.pkl','rb'))"
      ],
      "metadata": {
        "id": "ov0MtzP4xaML"
      },
      "execution_count": null,
      "outputs": []
    }
  ]
}