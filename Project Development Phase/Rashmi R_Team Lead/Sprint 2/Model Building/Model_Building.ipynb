{
  "nbformat": 4,
  "nbformat_minor": 0,
  "metadata": {
    "colab": {
      "provenance": []
    },
    "kernelspec": {
      "name": "python3",
      "display_name": "Python 3"
    },
    "language_info": {
      "name": "python"
    }
  },
  "cells": [
    {
      "cell_type": "markdown",
      "source": [
        "Model Building - Random Forest regression"
      ],
      "metadata": {
        "id": "Nibg3ua_2aD_"
      }
    },
    {
      "cell_type": "code",
      "source": [
        "# Creating model object\n",
        "model_rf = RandomForestClassifier(n_estimators=300,min_samples_leaf=0.16, random_state=42)"
      ],
      "metadata": {
        "id": "86Qh76D9pjqj"
      },
      "execution_count": 40,
      "outputs": []
    },
    {
      "cell_type": "code",
      "source": [
        "x_train"
      ],
      "metadata": {
        "colab": {
          "base_uri": "https://localhost:8080/"
        },
        "id": "fwq7oJVqIoMu",
        "outputId": "71604256-9a84-4666-abfc-535c7bb24038"
      },
      "execution_count": 41,
      "outputs": [
        {
          "output_type": "execute_result",
          "data": {
            "text/plain": [
              "array([[-0.14484136, -0.00473199],\n",
              "       [-1.01388955,  0.04822804],\n",
              "       [-1.30357228, -2.52803761],\n",
              "       [ 1.59325501,  0.89032267],\n",
              "       [-0.43452409,  0.14537196],\n",
              "       [ 0.43452409,  0.39773522],\n",
              "       [-0.72420682, -0.12795607],\n",
              "       [ 0.14484136,  0.19157468]])"
            ]
          },
          "metadata": {},
          "execution_count": 41
        }
      ]
    },
    {
      "cell_type": "code",
      "source": [
        "y_train"
      ],
      "metadata": {
        "colab": {
          "base_uri": "https://localhost:8080/"
        },
        "id": "KsEUYpO7Iq4e",
        "outputId": "5a3e35d7-cdb5-4704-be9e-587be3ff66bc"
      },
      "execution_count": 42,
      "outputs": [
        {
          "output_type": "execute_result",
          "data": {
            "text/plain": [
              "array([[2008.        ,   73.50628931],\n",
              "       [2005.        ,   73.76268908],\n",
              "       [2004.        ,   61.29      ],\n",
              "       [2014.        ,   77.83959184],\n",
              "       [2007.        ,   74.233     ],\n",
              "       [2010.        ,   75.45478723],\n",
              "       [2006.        ,   72.90971429],\n",
              "       [2009.        ,   74.45668508]])"
            ]
          },
          "metadata": {},
          "execution_count": 42
        }
      ]
    },
    {
      "cell_type": "code",
      "source": [
        "from sklearn.model_selection import train_test_split\n",
        "\n",
        "x_train, x_test, y_train, y_test = train_test_split(x, y, test_size=0.3, random_state=44) \n",
        "\n"
      ],
      "metadata": {
        "id": "OKEWb5kvIyGO"
      },
      "execution_count": 43,
      "outputs": []
    },
    {
      "cell_type": "code",
      "source": [
        "from sklearn.ensemble import RandomForestRegressor\n"
      ],
      "metadata": {
        "id": "KMDa6oI3LaWN"
      },
      "execution_count": 44,
      "outputs": []
    },
    {
      "cell_type": "code",
      "source": [
        "\n",
        "model_rf = RandomForestRegressor (n_estimators=50, max_features=\"auto\", random_state=44) \n",
        "model_rf"
      ],
      "metadata": {
        "colab": {
          "base_uri": "https://localhost:8080/"
        },
        "id": "8P4EFByZLm4s",
        "outputId": "736901be-e8f4-428f-a1b6-03c610db3652"
      },
      "execution_count": 45,
      "outputs": [
        {
          "output_type": "execute_result",
          "data": {
            "text/plain": [
              "RandomForestRegressor(n_estimators=50, random_state=44)"
            ]
          },
          "metadata": {},
          "execution_count": 45
        }
      ]
    },
    {
      "cell_type": "code",
      "source": [
        "\n",
        "model_rf.fit(x_train, y_train)"
      ],
      "metadata": {
        "id": "fIa5zQZVppmr",
        "colab": {
          "base_uri": "https://localhost:8080/"
        },
        "outputId": "d4fdee5b-418a-4ad0-e757-40ff7a181f9c"
      },
      "execution_count": 46,
      "outputs": [
        {
          "output_type": "execute_result",
          "data": {
            "text/plain": [
              "RandomForestRegressor(n_estimators=50, random_state=44)"
            ]
          },
          "metadata": {},
          "execution_count": 46
        }
      ]
    },
    {
      "cell_type": "code",
      "source": [
        "\n",
        "pred_rf = model_rf.predict(x_test)\n",
        "pred_rf"
      ],
      "metadata": {
        "id": "ARE8HfTtBxEy",
        "colab": {
          "base_uri": "https://localhost:8080/"
        },
        "outputId": "e43c19b8-d09e-4e7c-8adf-f535b1575ca6"
      },
      "execution_count": 47,
      "outputs": [
        {
          "output_type": "execute_result",
          "data": {
            "text/plain": [
              "array([[2006.54      ,   73.96217529],\n",
              "       [2012.16      ,   76.9136783 ],\n",
              "       [2007.2       ,   74.30292638],\n",
              "       [2010.48      ,   76.01904282]])"
            ]
          },
          "metadata": {},
          "execution_count": 47
        }
      ]
    },
    {
      "cell_type": "code",
      "source": [
        "from sklearn.metrics import accuracy_score"
      ],
      "metadata": {
        "id": "ALzMClDNR6a-"
      },
      "execution_count": 48,
      "outputs": []
    },
    {
      "cell_type": "code",
      "source": [
        "# Calculating Accuracy Score\n",
        "model_rf.score(x_test, y_test)"
      ],
      "metadata": {
        "colab": {
          "base_uri": "https://localhost:8080/"
        },
        "id": "vPH3TMKfQW8T",
        "outputId": "075fe50a-95b2-4841-fcd3-536f084b75e9"
      },
      "execution_count": 49,
      "outputs": [
        {
          "output_type": "execute_result",
          "data": {
            "text/plain": [
              "0.5050696050469521"
            ]
          },
          "metadata": {},
          "execution_count": 49
        }
      ]
    },
    {
      "cell_type": "code",
      "source": [
        "from sklearn import metrics\n",
        "print('MAE:', metrics.mean_absolute_error(y_test, pred_rf))\n",
        "print('MSE:', metrics.mean_squared_error(y_test, pred_rf))\n",
        "print('RMSE:', np.sqrt(metrics.mean_squared_error(y_test,pred_rf)))"
      ],
      "metadata": {
        "colab": {
          "base_uri": "https://localhost:8080/"
        },
        "id": "epeO_-WlonfB",
        "outputId": "79ff8fe3-7776-4bab-fb84-1de6d3263b74"
      },
      "execution_count": 50,
      "outputs": [
        {
          "output_type": "stream",
          "name": "stdout",
          "text": [
            "MAE: 0.9571167875216364\n",
            "MSE: 1.6061903678281326\n",
            "RMSE: 1.2673556595636968\n"
          ]
        }
      ]
    },
    {
      "cell_type": "code",
      "source": [
        "metrics.r2_score (y_test, pred_rf)"
      ],
      "metadata": {
        "colab": {
          "base_uri": "https://localhost:8080/"
        },
        "id": "7sOBVuqjmy4m",
        "outputId": "6cb97ac9-12f0-400f-9a5c-b1ac405ee4fe"
      },
      "execution_count": 51,
      "outputs": [
        {
          "output_type": "execute_result",
          "data": {
            "text/plain": [
              "0.5050696050469521"
            ]
          },
          "metadata": {},
          "execution_count": 51
        }
      ]
    },
    {
      "cell_type": "code",
      "source": [
        "import pickle \n",
        "pickle.dump(pred_rf, open('wqi.pkl', 'wb')) \n",
        "model = pickle.load(open('wqi.pkl','rb'))"
      ],
      "metadata": {
        "id": "kfFhVFgtm6Cl"
      },
      "execution_count": 52,
      "outputs": []
    }
  ]
}