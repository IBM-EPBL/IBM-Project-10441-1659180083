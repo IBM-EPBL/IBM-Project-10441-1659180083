{
  "nbformat": 4,
  "nbformat_minor": 0,
  "metadata": {
    "colab": {
      "provenance": []
    },
    "kernelspec": {
      "name": "python3",
      "display_name": "Python 3"
    },
    "language_info": {
      "name": "python"
    }
  },
  "cells": [
    {
      "cell_type": "markdown",
      "source": [
        "Model Building"
      ],
      "metadata": {
        "id": "4K2gBdGYsoVu"
      }
    },
    {
      "cell_type": "code",
      "source": [
        "from sklearn.ensemble import RandomForestRegressor\n",
        "regressor = RandomForestRegressor(n_estimators = 10, random_state = 0)\n",
        "regressor.fit(x_train, y_train)\n",
        "y_pred = regressor.predict(x_test)"
      ],
      "metadata": {
        "id": "YSjW32-pcuuQ"
      },
      "execution_count": 51,
      "outputs": []
    },
    {
      "cell_type": "code",
      "source": [
        "from sklearn import metrics\n",
        "print('MAE:',metrics.mean_absolute_error(y_test,y_pred))\n",
        "print('MSE:',metrics.mean_squared_error(y_test,y_pred))\n",
        "print('RMSE:',np.sqrt(metrics.mean_squared_error(y_test,y_pred)))"
      ],
      "metadata": {
        "colab": {
          "base_uri": "https://localhost:8080/"
        },
        "id": "aOUTlVIYcxRx",
        "outputId": "9fbafdf8-a98c-4ad2-806d-a9d92fcae524"
      },
      "execution_count": 52,
      "outputs": [
        {
          "output_type": "stream",
          "name": "stdout",
          "text": [
            "MAE: 0.17370689655172414\n",
            "MSE: 0.11508620689655172\n",
            "RMSE: 0.3392435804795011\n"
          ]
        }
      ]
    },
    {
      "cell_type": "code",
      "source": [
        "#accuracy of the model\n",
        "metrics.r2_score(y_test, y_pred)"
      ],
      "metadata": {
        "colab": {
          "base_uri": "https://localhost:8080/"
        },
        "id": "DEiY7brTc_DP",
        "outputId": "06ac08de-d5ea-48b4-9a2c-f256cb5a4ca9"
      },
      "execution_count": 59,
      "outputs": [
        {
          "output_type": "execute_result",
          "data": {
            "text/plain": [
              "0.794062302603145"
            ]
          },
          "metadata": {},
          "execution_count": 59
        }
      ]
    },
    {
      "cell_type": "code",
      "source": [
        "#Predicting the test set result  \n",
        "y_pred= regressor.predict(x_test)"
      ],
      "metadata": {
        "id": "jexRwNQfxRN5"
      },
      "execution_count": 60,
      "outputs": []
    },
    {
      "cell_type": "code",
      "source": [
        "y_pred"
      ],
      "metadata": {
        "colab": {
          "base_uri": "https://localhost:8080/"
        },
        "id": "PUv0edjbxLit",
        "outputId": "95a0a258-ad2e-4ef0-880b-cdad0b6eed45"
      },
      "execution_count": 61,
      "outputs": [
        {
          "output_type": "execute_result",
          "data": {
            "text/plain": [
              "array([0.3, 2. , 1. , 0. , 1.1, 2. , 0. , 1.1, 0.8, 0. , 2. , 0.5, 1. ,\n",
              "       0.3, 2. , 1.8, 1. , 1.1, 1.5, 1.7, 0. , 0. , 0. , 1.1, 1. , 1.1,\n",
              "       1. , 1.5, 2. , 1. , 1. , 1. , 1. , 1.2, 0.4, 0.8, 0.4, 0.2, 0.8,\n",
              "       0.6, 1.8, 0.7, 0.8, 1.8, 0.7, 0. , 0.1, 1.6, 0.1, 0.7, 0. , 0. ,\n",
              "       0. , 0. , 2. , 0. , 0. , 1. , 0.6, 1. , 2. , 1. , 0.9, 2. , 0. ,\n",
              "       0. , 0.3, 0. , 1. , 0. , 0.9, 1.1, 0.6, 0.6, 1. , 0. , 1. , 1.2,\n",
              "       2.1, 1.8, 1.1, 0. , 0. , 0.6, 1.1, 0. , 0. , 1.2, 0.6, 0. , 1.1,\n",
              "       0. , 1.1, 0.5, 1.7, 0.5, 0.6, 0. , 2. , 1.3, 1. , 0. , 1.1, 0. ,\n",
              "       2.1, 1.5, 1.6, 0. , 0. , 1.7, 1.6, 1.4, 1. , 1. , 0.2, 0. , 0. ,\n",
              "       0. , 0.9, 0. , 0.2, 1. , 1.5, 0. , 1. , 0. , 0.5, 0. , 1. , 1.1,\n",
              "       2. , 1.3, 0.9, 1. , 1.4, 0.9, 0. , 1.2, 1.1, 1.6, 1.8, 1. , 1. ,\n",
              "       0. , 0.9, 0.1, 1. , 0. , 1.5, 0. , 1.9, 0.7, 0. , 1. , 0. , 0. ,\n",
              "       2. , 1. , 1. , 1.8, 0.4, 1.8, 0. , 0. , 0. , 2. , 0. , 0.4, 0.9,\n",
              "       1.6, 1.3, 1.5, 0. , 1. , 0. , 0.9, 0. , 0. , 0. , 0.9, 0. , 0. ,\n",
              "       0.7, 0. , 2. , 0. , 0.7, 1. , 0. , 0.7, 1.1, 1.2, 0. , 1. , 0. ,\n",
              "       0.9, 0.1, 1.9, 0.6, 0. , 1.5, 0. , 1.1, 0. , 0.9, 0. , 1. , 0. ,\n",
              "       0.7, 0. , 0. , 1.3, 1.2, 1. , 0. , 1.7, 0.1, 1.3, 1. , 1.7, 1. ,\n",
              "       1.7, 0. , 0. , 0.4, 1. , 0. , 0.4, 1. , 0. , 1.5, 0.9, 0. , 0.5,\n",
              "       1.7, 0. , 2. , 1. , 1. , 0. , 0. , 1. , 1. , 1.1, 2. , 0. , 0. ,\n",
              "       1.1, 0. , 0.9, 2. , 0. , 0.9, 0.2, 1. , 0.9, 0. , 2. , 0. , 1. ,\n",
              "       0. , 1.6, 1.1, 1. , 0. , 1. , 1.7, 1.5, 0.4, 1. , 0.9, 0. , 0. ,\n",
              "       0. , 0. , 1. , 0.4, 0. , 0.8, 0. , 0. , 1.2, 1.8, 1. , 1.3, 0. ,\n",
              "       0. , 1.4, 1.1, 0.9, 0. , 0.4, 1.7, 0. , 0.1, 1.7, 1.5, 0. , 0. ,\n",
              "       0. , 2. , 0. , 0. , 0.9, 0.9, 0.7, 0. , 0.9, 1.1, 0.1, 1.6, 2. ,\n",
              "       0.5, 0.3, 0. , 1. , 0. , 0. , 1.4, 0.1, 0.2, 0. , 2. , 0. , 0.9,\n",
              "       0. , 1. , 0.2, 0. , 1.3, 0. , 0. , 1.4, 0. , 0. , 0.8, 1.3, 0.8,\n",
              "       0. , 0.9, 0. , 1.8, 0. , 2. , 0. , 0. , 1.1, 1. , 1. , 1.1, 1.9,\n",
              "       1. , 0. , 1.1, 0.6, 1.1, 1.1, 0. , 1. , 1. , 1.5, 0. , 0.9, 0. ,\n",
              "       0. , 0. , 0.9, 0.6, 0. , 2. , 0. , 0.9, 0. , 0. , 0. , 1.9, 0. ,\n",
              "       0. , 0.1, 1.6, 0. , 0.6, 1.1, 0. , 0. , 0. , 0.2, 1. , 1.1, 0. ,\n",
              "       0. , 0. , 0. , 0.5, 1. , 0. , 0. , 0.7, 0. , 1. , 0.8, 0. , 0. ,\n",
              "       0.8, 0. , 1. , 0.1, 0. , 0.7, 0. , 0. , 1. , 1.1, 0.8, 0. , 0. ,\n",
              "       1.1, 0.5, 0. , 0. , 1. , 0. , 1.5, 0.5, 0. , 1.6, 0. , 0.6, 1.3,\n",
              "       1.1, 1. , 0. , 1.8, 0.2, 0. , 0. , 0. , 1.1, 1.3, 0.5, 1.9, 1.6,\n",
              "       0. , 0.3, 1. , 2. , 2. , 1.5, 1. , 1.6, 1.1, 1. , 1.1, 0. , 0. ,\n",
              "       1.6, 0.7, 0. , 0.3, 0. , 0.4, 1. , 0. , 0.2])"
            ]
          },
          "metadata": {},
          "execution_count": 61
        }
      ]
    },
    {
      "cell_type": "markdown",
      "source": [
        "Hyperparameter tuning"
      ],
      "metadata": {
        "id": "tVAZO2OUyolT"
      }
    },
    {
      "cell_type": "code",
      "source": [
        "from sklearn.model_selection import GridSearchCV"
      ],
      "metadata": {
        "id": "AaM0qBiXylK0"
      },
      "execution_count": 63,
      "outputs": []
    },
    {
      "cell_type": "code",
      "source": [
        "import numpy as np\n"
      ],
      "metadata": {
        "id": "Kbhit0Ao0cem"
      },
      "execution_count": 64,
      "outputs": []
    },
    {
      "cell_type": "code",
      "source": [
        "max_features_range = np.arange(1,6,1)\n",
        "print(max_features_range)"
      ],
      "metadata": {
        "colab": {
          "base_uri": "https://localhost:8080/"
        },
        "id": "Oa6KQL5F0iny",
        "outputId": "fa066696-05e6-4c8f-f9bc-005d2dc9df76"
      },
      "execution_count": 65,
      "outputs": [
        {
          "output_type": "stream",
          "name": "stdout",
          "text": [
            "[1 2 3 4 5]\n"
          ]
        }
      ]
    },
    {
      "cell_type": "code",
      "source": [
        "n_estimators_range = np.arange(10,210,10)\n",
        "print(n_estimators_range)"
      ],
      "metadata": {
        "colab": {
          "base_uri": "https://localhost:8080/"
        },
        "id": "F3vO_IDk0rjn",
        "outputId": "bfbce575-46b3-42a7-d9e3-0dd149af7c91"
      },
      "execution_count": 66,
      "outputs": [
        {
          "output_type": "stream",
          "name": "stdout",
          "text": [
            "[ 10  20  30  40  50  60  70  80  90 100 110 120 130 140 150 160 170 180\n",
            " 190 200]\n"
          ]
        }
      ]
    },
    {
      "cell_type": "code",
      "source": [
        "param_grid = dict(max_features=max_features_range, n_estimators=n_estimators_range)\n",
        "print(param_grid)"
      ],
      "metadata": {
        "colab": {
          "base_uri": "https://localhost:8080/"
        },
        "id": "kGSx4dNP1OhC",
        "outputId": "2105f7a6-db3d-44a5-9843-4522646a74d9"
      },
      "execution_count": 67,
      "outputs": [
        {
          "output_type": "stream",
          "name": "stdout",
          "text": [
            "{'max_features': array([1, 2, 3, 4, 5]), 'n_estimators': array([ 10,  20,  30,  40,  50,  60,  70,  80,  90, 100, 110, 120, 130,\n",
            "       140, 150, 160, 170, 180, 190, 200])}\n"
          ]
        }
      ]
    },
    {
      "cell_type": "code",
      "source": [
        "rf = RandomForestRegressor()"
      ],
      "metadata": {
        "id": "ReNNxCh11O1n"
      },
      "execution_count": 68,
      "outputs": []
    },
    {
      "cell_type": "code",
      "source": [
        "grid = GridSearchCV(estimator=rf, param_grid=param_grid, cv=2)\n",
        "print(grid)"
      ],
      "metadata": {
        "colab": {
          "base_uri": "https://localhost:8080/"
        },
        "id": "_ncNWz4F18yX",
        "outputId": "64453444-83ea-4553-89ea-d7ba34efc1d4"
      },
      "execution_count": 69,
      "outputs": [
        {
          "output_type": "stream",
          "name": "stdout",
          "text": [
            "GridSearchCV(cv=2, estimator=RandomForestRegressor(),\n",
            "             param_grid={'max_features': array([1, 2, 3, 4, 5]),\n",
            "                         'n_estimators': array([ 10,  20,  30,  40,  50,  60,  70,  80,  90, 100, 110, 120, 130,\n",
            "       140, 150, 160, 170, 180, 190, 200])})\n"
          ]
        }
      ]
    },
    {
      "cell_type": "code",
      "source": [
        "grid.fit(x_train, y_train)"
      ],
      "metadata": {
        "colab": {
          "base_uri": "https://localhost:8080/"
        },
        "id": "Yz6396VG184Q",
        "outputId": "24846946-7c24-499e-dd40-78cc26a4f39f"
      },
      "execution_count": 70,
      "outputs": [
        {
          "output_type": "execute_result",
          "data": {
            "text/plain": [
              "GridSearchCV(cv=2, estimator=RandomForestRegressor(),\n",
              "             param_grid={'max_features': array([1, 2, 3, 4, 5]),\n",
              "                         'n_estimators': array([ 10,  20,  30,  40,  50,  60,  70,  80,  90, 100, 110, 120, 130,\n",
              "       140, 150, 160, 170, 180, 190, 200])})"
            ]
          },
          "metadata": {},
          "execution_count": 70
        }
      ]
    },
    {
      "cell_type": "code",
      "source": [
        "print(\"Optimal parameters %s accuracy score of  %0.2f\"\n",
        "      % (grid.best_params_, grid.best_score_))"
      ],
      "metadata": {
        "colab": {
          "base_uri": "https://localhost:8080/"
        },
        "id": "PJdfDVPu2snI",
        "outputId": "b6c01999-5b92-442f-96cf-f24e30f65547"
      },
      "execution_count": 71,
      "outputs": [
        {
          "output_type": "stream",
          "name": "stdout",
          "text": [
            "Optimal parameters {'max_features': 5, 'n_estimators': 190} accuracy score of  0.81\n"
          ]
        }
      ]
    },
    {
      "cell_type": "code",
      "source": [
        "from sklearn import datasets\n",
        "from sklearn.ensemble import RandomForestRegressor\n",
        "from sklearn.model_selection import KFold, cross_val_score\n",
        "\n",
        "X, y = datasets.load_iris(return_X_y=True)\n",
        "\n",
        "clf = RandomForestRegressor(random_state=42)\n",
        "\n",
        "k_folds = KFold(n_splits = 5)\n",
        "\n",
        "scores = cross_val_score(clf, X, y, cv = k_folds)\n",
        "\n",
        "print(\"Cross Validation Scores: \", scores)\n",
        "print(\"Average CV Score: \", scores.mean())\n",
        "print(\"Number of CV Scores used in Average: \", len(scores))"
      ],
      "metadata": {
        "colab": {
          "base_uri": "https://localhost:8080/"
        },
        "id": "zuImPxbl4l3d",
        "outputId": "11f060c1-5e8d-4cac-ac96-5da62680d86f"
      },
      "execution_count": 72,
      "outputs": [
        {
          "output_type": "stream",
          "name": "stdout",
          "text": [
            "Cross Validation Scores:  [1.       0.984085 0.       0.77569  0.      ]\n",
            "Average CV Score:  0.551955\n",
            "Number of CV Scores used in Average:  5\n"
          ]
        }
      ]
    },
    {
      "cell_type": "code",
      "source": [
        "import pickle \n",
        "pickle.dump(y_pred, open('wqi.pkl', 'wb')) \n",
        "model = pickle.load(open('wqi.pkl','rb'))"
      ],
      "metadata": {
        "id": "ov0MtzP4xaML"
      },
      "execution_count": 77,
      "outputs": []
    },
    {
      "cell_type": "markdown",
      "source": [
        "Training model on ibm "
      ],
      "metadata": {
        "id": "77bTnTWlkOM1"
      }
    },
    {
      "cell_type": "code",
      "source": [
        "from ibm_watson_machine_learning import APIClient"
      ],
      "metadata": {
        "id": "KI2RAUonhBsz"
      },
      "execution_count": 78,
      "outputs": []
    },
    {
      "cell_type": "code",
      "source": [
        "wml_credentials = {\n",
        "    \"apikey\":\"EGyk5k6320eQVTUSqS3piGoS3eAKWeZu5ywrJQHajo-3\",\n",
        "    \"url\":\"https://us-south.ml.cloud.ibm.com\"\n",
        "}"
      ],
      "metadata": {
        "id": "r4p2nKFAhBx3"
      },
      "execution_count": 79,
      "outputs": []
    },
    {
      "cell_type": "code",
      "source": [
        "wml_client = APIClient(wml_credentials)\n",
        "wml_client.spaces.list()"
      ],
      "metadata": {
        "colab": {
          "base_uri": "https://localhost:8080/"
        },
        "id": "UjnWQmdohB01",
        "outputId": "97a97f3b-b446-41f2-81a4-13f494a91ae6"
      },
      "execution_count": 80,
      "outputs": [
        {
          "output_type": "stream",
          "name": "stdout",
          "text": [
            "Python 3.7 and 3.8 frameworks are deprecated and will be removed in a future release. Use Python 3.9 framework instead.\n",
            "Note: 'limit' is not provided. Only first 50 records will be displayed if the number of records exceed 50\n",
            "--  ----  -------\n",
            "ID  NAME  CREATED\n",
            "--  ----  -------\n"
          ]
        }
      ]
    },
    {
      "cell_type": "code",
      "source": [
        "MODEL_NAME = 'Water-Quality'\n",
        "DEPLOYMENT_NAME = 'water-quality-prediction'\n",
        "DEPLOY_MODEL = regressor"
      ],
      "metadata": {
        "id": "j8vzE2G6lGUL"
      },
      "execution_count": null,
      "outputs": []
    },
    {
      "cell_type": "code",
      "source": [
        "software_spec_uid = wml_client.software_specifications.get_id_by_name('runtime-22.1-py3.9')"
      ],
      "metadata": {
        "id": "PZe9suuylGak"
      },
      "execution_count": null,
      "outputs": []
    },
    {
      "cell_type": "code",
      "source": [
        "model_props = {\n",
        "    wml_client.repository.ModelMetaNames.NAME: MODEL_NAME, \n",
        "    wml_client.repository.ModelMetaNames.TYPE: 'scikit-learn_1.0', \n",
        "    wml_client.repository.ModelMetaNames.SOFTWARE_SPEC_UID: software_spec_uid "
      ],
      "metadata": {
        "id": "F6aIrgG6loYN"
      },
      "execution_count": null,
      "outputs": []
    },
    {
      "cell_type": "code",
      "source": [
        "model_details = wml_client.repository.store_model(\n",
        "    model=DEPLOY_MODEL, \n",
        "    meta_props=model_props, \n",
        "    training_data=x_train, \n",
        "    training_target=y_train\n",
        ")"
      ],
      "metadata": {
        "id": "05lw3KtNloez"
      },
      "execution_count": null,
      "outputs": []
    }
  ]
}