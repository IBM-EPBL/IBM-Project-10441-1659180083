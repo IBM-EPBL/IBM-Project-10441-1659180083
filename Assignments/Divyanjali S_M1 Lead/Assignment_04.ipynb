{
  "nbformat": 4,
  "nbformat_minor": 0,
  "metadata": {
    "colab": {
      "provenance": []
    },
    "kernelspec": {
      "name": "python3",
      "display_name": "Python 3"
    },
    "language_info": {
      "name": "python"
    }
  },
  "cells": [
    {
      "cell_type": "markdown",
      "source": [
        "1. Download the dataset: Dataset\n",
        "2. Load the dataset into the tool."
      ],
      "metadata": {
        "id": "lm-ySLaQWDTW"
      }
    },
    {
      "cell_type": "code",
      "execution_count": 1,
      "metadata": {
        "id": "AVvtHyVnWCJp"
      },
      "outputs": [],
      "source": [
        "import numpy as np\n",
        "import matplotlib.pyplot as plt\n",
        "import pandas as pd\n",
        "import seaborn as sns \n",
        "import warnings"
      ]
    },
    {
      "cell_type": "code",
      "source": [
        "data=pd.read_csv(\"Mall_Customers.csv\",encoding='ISO-8859-1')\n",
        "data.head()"
      ],
      "metadata": {
        "colab": {
          "base_uri": "https://localhost:8080/",
          "height": 206
        },
        "id": "liC0Kzo0WQj_",
        "outputId": "75b78ea8-725d-461b-ea4e-a64bd5fdce2c"
      },
      "execution_count": 2,
      "outputs": [
        {
          "output_type": "execute_result",
          "data": {
            "text/plain": [
              "   CustomerID  Gender  Age  Annual Income (k$)  Spending Score (1-100)\n",
              "0           1    Male   19                  15                      39\n",
              "1           2    Male   21                  15                      81\n",
              "2           3  Female   20                  16                       6\n",
              "3           4  Female   23                  16                      77\n",
              "4           5  Female   31                  17                      40"
            ],
            "text/html": [
              "\n",
              "  <div id=\"df-1aa59e41-2d3d-42ac-982e-71e7b05941e7\">\n",
              "    <div class=\"colab-df-container\">\n",
              "      <div>\n",
              "<style scoped>\n",
              "    .dataframe tbody tr th:only-of-type {\n",
              "        vertical-align: middle;\n",
              "    }\n",
              "\n",
              "    .dataframe tbody tr th {\n",
              "        vertical-align: top;\n",
              "    }\n",
              "\n",
              "    .dataframe thead th {\n",
              "        text-align: right;\n",
              "    }\n",
              "</style>\n",
              "<table border=\"1\" class=\"dataframe\">\n",
              "  <thead>\n",
              "    <tr style=\"text-align: right;\">\n",
              "      <th></th>\n",
              "      <th>CustomerID</th>\n",
              "      <th>Gender</th>\n",
              "      <th>Age</th>\n",
              "      <th>Annual Income (k$)</th>\n",
              "      <th>Spending Score (1-100)</th>\n",
              "    </tr>\n",
              "  </thead>\n",
              "  <tbody>\n",
              "    <tr>\n",
              "      <th>0</th>\n",
              "      <td>1</td>\n",
              "      <td>Male</td>\n",
              "      <td>19</td>\n",
              "      <td>15</td>\n",
              "      <td>39</td>\n",
              "    </tr>\n",
              "    <tr>\n",
              "      <th>1</th>\n",
              "      <td>2</td>\n",
              "      <td>Male</td>\n",
              "      <td>21</td>\n",
              "      <td>15</td>\n",
              "      <td>81</td>\n",
              "    </tr>\n",
              "    <tr>\n",
              "      <th>2</th>\n",
              "      <td>3</td>\n",
              "      <td>Female</td>\n",
              "      <td>20</td>\n",
              "      <td>16</td>\n",
              "      <td>6</td>\n",
              "    </tr>\n",
              "    <tr>\n",
              "      <th>3</th>\n",
              "      <td>4</td>\n",
              "      <td>Female</td>\n",
              "      <td>23</td>\n",
              "      <td>16</td>\n",
              "      <td>77</td>\n",
              "    </tr>\n",
              "    <tr>\n",
              "      <th>4</th>\n",
              "      <td>5</td>\n",
              "      <td>Female</td>\n",
              "      <td>31</td>\n",
              "      <td>17</td>\n",
              "      <td>40</td>\n",
              "    </tr>\n",
              "  </tbody>\n",
              "</table>\n",
              "</div>\n",
              "      <button class=\"colab-df-convert\" onclick=\"convertToInteractive('df-1aa59e41-2d3d-42ac-982e-71e7b05941e7')\"\n",
              "              title=\"Convert this dataframe to an interactive table.\"\n",
              "              style=\"display:none;\">\n",
              "        \n",
              "  <svg xmlns=\"http://www.w3.org/2000/svg\" height=\"24px\"viewBox=\"0 0 24 24\"\n",
              "       width=\"24px\">\n",
              "    <path d=\"M0 0h24v24H0V0z\" fill=\"none\"/>\n",
              "    <path d=\"M18.56 5.44l.94 2.06.94-2.06 2.06-.94-2.06-.94-.94-2.06-.94 2.06-2.06.94zm-11 1L8.5 8.5l.94-2.06 2.06-.94-2.06-.94L8.5 2.5l-.94 2.06-2.06.94zm10 10l.94 2.06.94-2.06 2.06-.94-2.06-.94-.94-2.06-.94 2.06-2.06.94z\"/><path d=\"M17.41 7.96l-1.37-1.37c-.4-.4-.92-.59-1.43-.59-.52 0-1.04.2-1.43.59L10.3 9.45l-7.72 7.72c-.78.78-.78 2.05 0 2.83L4 21.41c.39.39.9.59 1.41.59.51 0 1.02-.2 1.41-.59l7.78-7.78 2.81-2.81c.8-.78.8-2.07 0-2.86zM5.41 20L4 18.59l7.72-7.72 1.47 1.35L5.41 20z\"/>\n",
              "  </svg>\n",
              "      </button>\n",
              "      \n",
              "  <style>\n",
              "    .colab-df-container {\n",
              "      display:flex;\n",
              "      flex-wrap:wrap;\n",
              "      gap: 12px;\n",
              "    }\n",
              "\n",
              "    .colab-df-convert {\n",
              "      background-color: #E8F0FE;\n",
              "      border: none;\n",
              "      border-radius: 50%;\n",
              "      cursor: pointer;\n",
              "      display: none;\n",
              "      fill: #1967D2;\n",
              "      height: 32px;\n",
              "      padding: 0 0 0 0;\n",
              "      width: 32px;\n",
              "    }\n",
              "\n",
              "    .colab-df-convert:hover {\n",
              "      background-color: #E2EBFA;\n",
              "      box-shadow: 0px 1px 2px rgba(60, 64, 67, 0.3), 0px 1px 3px 1px rgba(60, 64, 67, 0.15);\n",
              "      fill: #174EA6;\n",
              "    }\n",
              "\n",
              "    [theme=dark] .colab-df-convert {\n",
              "      background-color: #3B4455;\n",
              "      fill: #D2E3FC;\n",
              "    }\n",
              "\n",
              "    [theme=dark] .colab-df-convert:hover {\n",
              "      background-color: #434B5C;\n",
              "      box-shadow: 0px 1px 3px 1px rgba(0, 0, 0, 0.15);\n",
              "      filter: drop-shadow(0px 1px 2px rgba(0, 0, 0, 0.3));\n",
              "      fill: #FFFFFF;\n",
              "    }\n",
              "  </style>\n",
              "\n",
              "      <script>\n",
              "        const buttonEl =\n",
              "          document.querySelector('#df-1aa59e41-2d3d-42ac-982e-71e7b05941e7 button.colab-df-convert');\n",
              "        buttonEl.style.display =\n",
              "          google.colab.kernel.accessAllowed ? 'block' : 'none';\n",
              "\n",
              "        async function convertToInteractive(key) {\n",
              "          const element = document.querySelector('#df-1aa59e41-2d3d-42ac-982e-71e7b05941e7');\n",
              "          const dataTable =\n",
              "            await google.colab.kernel.invokeFunction('convertToInteractive',\n",
              "                                                     [key], {});\n",
              "          if (!dataTable) return;\n",
              "\n",
              "          const docLinkHtml = 'Like what you see? Visit the ' +\n",
              "            '<a target=\"_blank\" href=https://colab.research.google.com/notebooks/data_table.ipynb>data table notebook</a>'\n",
              "            + ' to learn more about interactive tables.';\n",
              "          element.innerHTML = '';\n",
              "          dataTable['output_type'] = 'display_data';\n",
              "          await google.colab.output.renderOutput(dataTable, element);\n",
              "          const docLink = document.createElement('div');\n",
              "          docLink.innerHTML = docLinkHtml;\n",
              "          element.appendChild(docLink);\n",
              "        }\n",
              "      </script>\n",
              "    </div>\n",
              "  </div>\n",
              "  "
            ]
          },
          "metadata": {},
          "execution_count": 2
        }
      ]
    },
    {
      "cell_type": "code",
      "source": [
        "data.describe()"
      ],
      "metadata": {
        "colab": {
          "base_uri": "https://localhost:8080/",
          "height": 300
        },
        "id": "dGbhpq_QWQoJ",
        "outputId": "7b98a49b-1f3c-4a88-b93d-e89abe27233a"
      },
      "execution_count": 3,
      "outputs": [
        {
          "output_type": "execute_result",
          "data": {
            "text/plain": [
              "       CustomerID         Age  Annual Income (k$)  Spending Score (1-100)\n",
              "count  200.000000  200.000000          200.000000              200.000000\n",
              "mean   100.500000   38.850000           60.560000               50.200000\n",
              "std     57.879185   13.969007           26.264721               25.823522\n",
              "min      1.000000   18.000000           15.000000                1.000000\n",
              "25%     50.750000   28.750000           41.500000               34.750000\n",
              "50%    100.500000   36.000000           61.500000               50.000000\n",
              "75%    150.250000   49.000000           78.000000               73.000000\n",
              "max    200.000000   70.000000          137.000000               99.000000"
            ],
            "text/html": [
              "\n",
              "  <div id=\"df-38becec3-d1bd-4d6f-b528-d4248429fbd1\">\n",
              "    <div class=\"colab-df-container\">\n",
              "      <div>\n",
              "<style scoped>\n",
              "    .dataframe tbody tr th:only-of-type {\n",
              "        vertical-align: middle;\n",
              "    }\n",
              "\n",
              "    .dataframe tbody tr th {\n",
              "        vertical-align: top;\n",
              "    }\n",
              "\n",
              "    .dataframe thead th {\n",
              "        text-align: right;\n",
              "    }\n",
              "</style>\n",
              "<table border=\"1\" class=\"dataframe\">\n",
              "  <thead>\n",
              "    <tr style=\"text-align: right;\">\n",
              "      <th></th>\n",
              "      <th>CustomerID</th>\n",
              "      <th>Age</th>\n",
              "      <th>Annual Income (k$)</th>\n",
              "      <th>Spending Score (1-100)</th>\n",
              "    </tr>\n",
              "  </thead>\n",
              "  <tbody>\n",
              "    <tr>\n",
              "      <th>count</th>\n",
              "      <td>200.000000</td>\n",
              "      <td>200.000000</td>\n",
              "      <td>200.000000</td>\n",
              "      <td>200.000000</td>\n",
              "    </tr>\n",
              "    <tr>\n",
              "      <th>mean</th>\n",
              "      <td>100.500000</td>\n",
              "      <td>38.850000</td>\n",
              "      <td>60.560000</td>\n",
              "      <td>50.200000</td>\n",
              "    </tr>\n",
              "    <tr>\n",
              "      <th>std</th>\n",
              "      <td>57.879185</td>\n",
              "      <td>13.969007</td>\n",
              "      <td>26.264721</td>\n",
              "      <td>25.823522</td>\n",
              "    </tr>\n",
              "    <tr>\n",
              "      <th>min</th>\n",
              "      <td>1.000000</td>\n",
              "      <td>18.000000</td>\n",
              "      <td>15.000000</td>\n",
              "      <td>1.000000</td>\n",
              "    </tr>\n",
              "    <tr>\n",
              "      <th>25%</th>\n",
              "      <td>50.750000</td>\n",
              "      <td>28.750000</td>\n",
              "      <td>41.500000</td>\n",
              "      <td>34.750000</td>\n",
              "    </tr>\n",
              "    <tr>\n",
              "      <th>50%</th>\n",
              "      <td>100.500000</td>\n",
              "      <td>36.000000</td>\n",
              "      <td>61.500000</td>\n",
              "      <td>50.000000</td>\n",
              "    </tr>\n",
              "    <tr>\n",
              "      <th>75%</th>\n",
              "      <td>150.250000</td>\n",
              "      <td>49.000000</td>\n",
              "      <td>78.000000</td>\n",
              "      <td>73.000000</td>\n",
              "    </tr>\n",
              "    <tr>\n",
              "      <th>max</th>\n",
              "      <td>200.000000</td>\n",
              "      <td>70.000000</td>\n",
              "      <td>137.000000</td>\n",
              "      <td>99.000000</td>\n",
              "    </tr>\n",
              "  </tbody>\n",
              "</table>\n",
              "</div>\n",
              "      <button class=\"colab-df-convert\" onclick=\"convertToInteractive('df-38becec3-d1bd-4d6f-b528-d4248429fbd1')\"\n",
              "              title=\"Convert this dataframe to an interactive table.\"\n",
              "              style=\"display:none;\">\n",
              "        \n",
              "  <svg xmlns=\"http://www.w3.org/2000/svg\" height=\"24px\"viewBox=\"0 0 24 24\"\n",
              "       width=\"24px\">\n",
              "    <path d=\"M0 0h24v24H0V0z\" fill=\"none\"/>\n",
              "    <path d=\"M18.56 5.44l.94 2.06.94-2.06 2.06-.94-2.06-.94-.94-2.06-.94 2.06-2.06.94zm-11 1L8.5 8.5l.94-2.06 2.06-.94-2.06-.94L8.5 2.5l-.94 2.06-2.06.94zm10 10l.94 2.06.94-2.06 2.06-.94-2.06-.94-.94-2.06-.94 2.06-2.06.94z\"/><path d=\"M17.41 7.96l-1.37-1.37c-.4-.4-.92-.59-1.43-.59-.52 0-1.04.2-1.43.59L10.3 9.45l-7.72 7.72c-.78.78-.78 2.05 0 2.83L4 21.41c.39.39.9.59 1.41.59.51 0 1.02-.2 1.41-.59l7.78-7.78 2.81-2.81c.8-.78.8-2.07 0-2.86zM5.41 20L4 18.59l7.72-7.72 1.47 1.35L5.41 20z\"/>\n",
              "  </svg>\n",
              "      </button>\n",
              "      \n",
              "  <style>\n",
              "    .colab-df-container {\n",
              "      display:flex;\n",
              "      flex-wrap:wrap;\n",
              "      gap: 12px;\n",
              "    }\n",
              "\n",
              "    .colab-df-convert {\n",
              "      background-color: #E8F0FE;\n",
              "      border: none;\n",
              "      border-radius: 50%;\n",
              "      cursor: pointer;\n",
              "      display: none;\n",
              "      fill: #1967D2;\n",
              "      height: 32px;\n",
              "      padding: 0 0 0 0;\n",
              "      width: 32px;\n",
              "    }\n",
              "\n",
              "    .colab-df-convert:hover {\n",
              "      background-color: #E2EBFA;\n",
              "      box-shadow: 0px 1px 2px rgba(60, 64, 67, 0.3), 0px 1px 3px 1px rgba(60, 64, 67, 0.15);\n",
              "      fill: #174EA6;\n",
              "    }\n",
              "\n",
              "    [theme=dark] .colab-df-convert {\n",
              "      background-color: #3B4455;\n",
              "      fill: #D2E3FC;\n",
              "    }\n",
              "\n",
              "    [theme=dark] .colab-df-convert:hover {\n",
              "      background-color: #434B5C;\n",
              "      box-shadow: 0px 1px 3px 1px rgba(0, 0, 0, 0.15);\n",
              "      filter: drop-shadow(0px 1px 2px rgba(0, 0, 0, 0.3));\n",
              "      fill: #FFFFFF;\n",
              "    }\n",
              "  </style>\n",
              "\n",
              "      <script>\n",
              "        const buttonEl =\n",
              "          document.querySelector('#df-38becec3-d1bd-4d6f-b528-d4248429fbd1 button.colab-df-convert');\n",
              "        buttonEl.style.display =\n",
              "          google.colab.kernel.accessAllowed ? 'block' : 'none';\n",
              "\n",
              "        async function convertToInteractive(key) {\n",
              "          const element = document.querySelector('#df-38becec3-d1bd-4d6f-b528-d4248429fbd1');\n",
              "          const dataTable =\n",
              "            await google.colab.kernel.invokeFunction('convertToInteractive',\n",
              "                                                     [key], {});\n",
              "          if (!dataTable) return;\n",
              "\n",
              "          const docLinkHtml = 'Like what you see? Visit the ' +\n",
              "            '<a target=\"_blank\" href=https://colab.research.google.com/notebooks/data_table.ipynb>data table notebook</a>'\n",
              "            + ' to learn more about interactive tables.';\n",
              "          element.innerHTML = '';\n",
              "          dataTable['output_type'] = 'display_data';\n",
              "          await google.colab.output.renderOutput(dataTable, element);\n",
              "          const docLink = document.createElement('div');\n",
              "          docLink.innerHTML = docLinkHtml;\n",
              "          element.appendChild(docLink);\n",
              "        }\n",
              "      </script>\n",
              "    </div>\n",
              "  </div>\n",
              "  "
            ]
          },
          "metadata": {},
          "execution_count": 3
        }
      ]
    },
    {
      "cell_type": "code",
      "source": [
        "data.dtypes"
      ],
      "metadata": {
        "colab": {
          "base_uri": "https://localhost:8080/"
        },
        "id": "L-095iRxWQsI",
        "outputId": "ab9234c5-9519-4611-f764-0eaae185a9be"
      },
      "execution_count": 4,
      "outputs": [
        {
          "output_type": "execute_result",
          "data": {
            "text/plain": [
              "CustomerID                 int64\n",
              "Gender                    object\n",
              "Age                        int64\n",
              "Annual Income (k$)         int64\n",
              "Spending Score (1-100)     int64\n",
              "dtype: object"
            ]
          },
          "metadata": {},
          "execution_count": 4
        }
      ]
    },
    {
      "cell_type": "markdown",
      "source": [
        "3. Perform Below Visualizations.\n",
        "∙ Univariate Analysis\n",
        "∙ Bi- Variate Analysis\n",
        "∙ Multi-Variate Analysis"
      ],
      "metadata": {
        "id": "nEeABMNoWkxY"
      }
    },
    {
      "cell_type": "code",
      "source": [
        "#univariate analysis \"Histogram\"\n",
        "sns.histplot(data[\"Gender\"],color='darkorange')"
      ],
      "metadata": {
        "colab": {
          "base_uri": "https://localhost:8080/",
          "height": 296
        },
        "id": "h_ap12__WQv5",
        "outputId": "154d748b-721b-4416-eaef-81af129bfbd0"
      },
      "execution_count": 5,
      "outputs": [
        {
          "output_type": "execute_result",
          "data": {
            "text/plain": [
              "<matplotlib.axes._subplots.AxesSubplot at 0x7f055092ce50>"
            ]
          },
          "metadata": {},
          "execution_count": 5
        },
        {
          "output_type": "display_data",
          "data": {
            "text/plain": [
              "<Figure size 432x288 with 1 Axes>"
            ],
            "image/png": "[encoded data removed]"
          },
          "metadata": {
            "needs_background": "light"
          }
        }
      ]
    },
    {
      "cell_type": "code",
      "source": [
        "#univariate analysis \"Countlot\"\n",
        "sns.countplot(data['Gender'])"
      ],
      "metadata": {
        "colab": {
          "base_uri": "https://localhost:8080/",
          "height": 351
        },
        "id": "-cVnTKDOWQzN",
        "outputId": "227f77ca-acc0-4d9c-ef37-6dfa523a9a70"
      },
      "execution_count": 6,
      "outputs": [
        {
          "output_type": "stream",
          "name": "stderr",
          "text": [
            "/usr/local/lib/python3.7/dist-packages/seaborn/_decorators.py:43: FutureWarning: Pass the following variable as a keyword arg: x. From version 0.12, the only valid positional argument will be `data`, and passing other arguments without an explicit keyword will result in an error or misinterpretation.\n",
            "  FutureWarning\n"
          ]
        },
        {
          "output_type": "execute_result",
          "data": {
            "text/plain": [
              "<matplotlib.axes._subplots.AxesSubplot at 0x7f055088ef50>"
            ]
          },
          "metadata": {},
          "execution_count": 6
        },
        {
          "output_type": "display_data",
          "data": {
            "text/plain": [
              "<Figure size 432x288 with 1 Axes>"
            ],
            "image/png": "[encoded data removed]"
          },
          "metadata": {
            "needs_background": "light"
          }
        }
      ]
    },
    {
      "cell_type": "code",
      "source": [
        "#bivariate analysis\"Pointplot\"\n",
        "sns.pointplot(x='Gender',y='Age',data=data,color='darkorange')"
      ],
      "metadata": {
        "colab": {
          "base_uri": "https://localhost:8080/",
          "height": 296
        },
        "id": "QuQsA5gCWQ1D",
        "outputId": "82ecb60a-4cb6-49c2-ec32-47f57a017fa5"
      },
      "execution_count": 7,
      "outputs": [
        {
          "output_type": "execute_result",
          "data": {
            "text/plain": [
              "<matplotlib.axes._subplots.AxesSubplot at 0x7f05503ab590>"
            ]
          },
          "metadata": {},
          "execution_count": 7
        },
        {
          "output_type": "display_data",
          "data": {
            "text/plain": [
              "<Figure size 432x288 with 1 Axes>"
            ],
            "image/png": "[encoded data removed]"
          },
          "metadata": {
            "needs_background": "light"
          }
        }
      ]
    },
    {
      "cell_type": "code",
      "source": [
        "#Multivariate analysis\"Pairplot\"\n",
        "sns.pairplot(data)"
      ],
      "metadata": {
        "colab": {
          "base_uri": "https://localhost:8080/",
          "height": 743
        },
        "id": "ROXfC1l6WQ3A",
        "outputId": "9dc84188-68ec-467a-c587-e9ce9abccd8a"
      },
      "execution_count": 8,
      "outputs": [
        {
          "output_type": "execute_result",
          "data": {
            "text/plain": [
              "<seaborn.axisgrid.PairGrid at 0x7f0550331590>"
            ]
          },
          "metadata": {},
          "execution_count": 8
        },
        {
          "output_type": "display_data",
          "data": {
            "text/plain": [
              "<Figure size 720x720 with 20 Axes>"
            ],
            "image/png": "[encoded data removed]"
          },
          "metadata": {
            "needs_background": "light"
          }
        }
      ]
    },
    {
      "cell_type": "markdown",
      "source": [
        "4. Perform descriptive statistics on the dataset."
      ],
      "metadata": {
        "id": "mrgMW80iW-dI"
      }
    },
    {
      "cell_type": "code",
      "source": [
        "# Descriptive statistics of the data set accessed.\n",
        "data.describe().T"
      ],
      "metadata": {
        "colab": {
          "base_uri": "https://localhost:8080/",
          "height": 175
        },
        "id": "DvDqf5vhWQ5A",
        "outputId": "d5b4b0f9-5b38-478d-d6c3-c5e551427e1e"
      },
      "execution_count": 9,
      "outputs": [
        {
          "output_type": "execute_result",
          "data": {
            "text/plain": [
              "                        count    mean        std   min    25%    50%     75%  \\\n",
              "CustomerID              200.0  100.50  57.879185   1.0  50.75  100.5  150.25   \n",
              "Age                     200.0   38.85  13.969007  18.0  28.75   36.0   49.00   \n",
              "Annual Income (k$)      200.0   60.56  26.264721  15.0  41.50   61.5   78.00   \n",
              "Spending Score (1-100)  200.0   50.20  25.823522   1.0  34.75   50.0   73.00   \n",
              "\n",
              "                          max  \n",
              "CustomerID              200.0  \n",
              "Age                      70.0  \n",
              "Annual Income (k$)      137.0  \n",
              "Spending Score (1-100)   99.0  "
            ],
            "text/html": [
              "\n",
              "  <div id=\"df-010d562e-8aca-4807-9fb4-1915243cb385\">\n",
              "    <div class=\"colab-df-container\">\n",
              "      <div>\n",
              "<style scoped>\n",
              "    .dataframe tbody tr th:only-of-type {\n",
              "        vertical-align: middle;\n",
              "    }\n",
              "\n",
              "    .dataframe tbody tr th {\n",
              "        vertical-align: top;\n",
              "    }\n",
              "\n",
              "    .dataframe thead th {\n",
              "        text-align: right;\n",
              "    }\n",
              "</style>\n",
              "<table border=\"1\" class=\"dataframe\">\n",
              "  <thead>\n",
              "    <tr style=\"text-align: right;\">\n",
              "      <th></th>\n",
              "      <th>count</th>\n",
              "      <th>mean</th>\n",
              "      <th>std</th>\n",
              "      <th>min</th>\n",
              "      <th>25%</th>\n",
              "      <th>50%</th>\n",
              "      <th>75%</th>\n",
              "      <th>max</th>\n",
              "    </tr>\n",
              "  </thead>\n",
              "  <tbody>\n",
              "    <tr>\n",
              "      <th>CustomerID</th>\n",
              "      <td>200.0</td>\n",
              "      <td>100.50</td>\n",
              "      <td>57.879185</td>\n",
              "      <td>1.0</td>\n",
              "      <td>50.75</td>\n",
              "      <td>100.5</td>\n",
              "      <td>150.25</td>\n",
              "      <td>200.0</td>\n",
              "    </tr>\n",
              "    <tr>\n",
              "      <th>Age</th>\n",
              "      <td>200.0</td>\n",
              "      <td>38.85</td>\n",
              "      <td>13.969007</td>\n",
              "      <td>18.0</td>\n",
              "      <td>28.75</td>\n",
              "      <td>36.0</td>\n",
              "      <td>49.00</td>\n",
              "      <td>70.0</td>\n",
              "    </tr>\n",
              "    <tr>\n",
              "      <th>Annual Income (k$)</th>\n",
              "      <td>200.0</td>\n",
              "      <td>60.56</td>\n",
              "      <td>26.264721</td>\n",
              "      <td>15.0</td>\n",
              "      <td>41.50</td>\n",
              "      <td>61.5</td>\n",
              "      <td>78.00</td>\n",
              "      <td>137.0</td>\n",
              "    </tr>\n",
              "    <tr>\n",
              "      <th>Spending Score (1-100)</th>\n",
              "      <td>200.0</td>\n",
              "      <td>50.20</td>\n",
              "      <td>25.823522</td>\n",
              "      <td>1.0</td>\n",
              "      <td>34.75</td>\n",
              "      <td>50.0</td>\n",
              "      <td>73.00</td>\n",
              "      <td>99.0</td>\n",
              "    </tr>\n",
              "  </tbody>\n",
              "</table>\n",
              "</div>\n",
              "      <button class=\"colab-df-convert\" onclick=\"convertToInteractive('df-010d562e-8aca-4807-9fb4-1915243cb385')\"\n",
              "              title=\"Convert this dataframe to an interactive table.\"\n",
              "              style=\"display:none;\">\n",
              "        \n",
              "  <svg xmlns=\"http://www.w3.org/2000/svg\" height=\"24px\"viewBox=\"0 0 24 24\"\n",
              "       width=\"24px\">\n",
              "    <path d=\"M0 0h24v24H0V0z\" fill=\"none\"/>\n",
              "    <path d=\"M18.56 5.44l.94 2.06.94-2.06 2.06-.94-2.06-.94-.94-2.06-.94 2.06-2.06.94zm-11 1L8.5 8.5l.94-2.06 2.06-.94-2.06-.94L8.5 2.5l-.94 2.06-2.06.94zm10 10l.94 2.06.94-2.06 2.06-.94-2.06-.94-.94-2.06-.94 2.06-2.06.94z\"/><path d=\"M17.41 7.96l-1.37-1.37c-.4-.4-.92-.59-1.43-.59-.52 0-1.04.2-1.43.59L10.3 9.45l-7.72 7.72c-.78.78-.78 2.05 0 2.83L4 21.41c.39.39.9.59 1.41.59.51 0 1.02-.2 1.41-.59l7.78-7.78 2.81-2.81c.8-.78.8-2.07 0-2.86zM5.41 20L4 18.59l7.72-7.72 1.47 1.35L5.41 20z\"/>\n",
              "  </svg>\n",
              "      </button>\n",
              "      \n",
              "  <style>\n",
              "    .colab-df-container {\n",
              "      display:flex;\n",
              "      flex-wrap:wrap;\n",
              "      gap: 12px;\n",
              "    }\n",
              "\n",
              "    .colab-df-convert {\n",
              "      background-color: #E8F0FE;\n",
              "      border: none;\n",
              "      border-radius: 50%;\n",
              "      cursor: pointer;\n",
              "      display: none;\n",
              "      fill: #1967D2;\n",
              "      height: 32px;\n",
              "      padding: 0 0 0 0;\n",
              "      width: 32px;\n",
              "    }\n",
              "\n",
              "    .colab-df-convert:hover {\n",
              "      background-color: #E2EBFA;\n",
              "      box-shadow: 0px 1px 2px rgba(60, 64, 67, 0.3), 0px 1px 3px 1px rgba(60, 64, 67, 0.15);\n",
              "      fill: #174EA6;\n",
              "    }\n",
              "\n",
              "    [theme=dark] .colab-df-convert {\n",
              "      background-color: #3B4455;\n",
              "      fill: #D2E3FC;\n",
              "    }\n",
              "\n",
              "    [theme=dark] .colab-df-convert:hover {\n",
              "      background-color: #434B5C;\n",
              "      box-shadow: 0px 1px 3px 1px rgba(0, 0, 0, 0.15);\n",
              "      filter: drop-shadow(0px 1px 2px rgba(0, 0, 0, 0.3));\n",
              "      fill: #FFFFFF;\n",
              "    }\n",
              "  </style>\n",
              "\n",
              "      <script>\n",
              "        const buttonEl =\n",
              "          document.querySelector('#df-010d562e-8aca-4807-9fb4-1915243cb385 button.colab-df-convert');\n",
              "        buttonEl.style.display =\n",
              "          google.colab.kernel.accessAllowed ? 'block' : 'none';\n",
              "\n",
              "        async function convertToInteractive(key) {\n",
              "          const element = document.querySelector('#df-010d562e-8aca-4807-9fb4-1915243cb385');\n",
              "          const dataTable =\n",
              "            await google.colab.kernel.invokeFunction('convertToInteractive',\n",
              "                                                     [key], {});\n",
              "          if (!dataTable) return;\n",
              "\n",
              "          const docLinkHtml = 'Like what you see? Visit the ' +\n",
              "            '<a target=\"_blank\" href=https://colab.research.google.com/notebooks/data_table.ipynb>data table notebook</a>'\n",
              "            + ' to learn more about interactive tables.';\n",
              "          element.innerHTML = '';\n",
              "          dataTable['output_type'] = 'display_data';\n",
              "          await google.colab.output.renderOutput(dataTable, element);\n",
              "          const docLink = document.createElement('div');\n",
              "          docLink.innerHTML = docLinkHtml;\n",
              "          element.appendChild(docLink);\n",
              "        }\n",
              "      </script>\n",
              "    </div>\n",
              "  </div>\n",
              "  "
            ]
          },
          "metadata": {},
          "execution_count": 9
        }
      ]
    },
    {
      "cell_type": "code",
      "source": [
        "data.isnull().any().any()"
      ],
      "metadata": {
        "colab": {
          "base_uri": "https://localhost:8080/"
        },
        "id": "6hBznPIDWQ6c",
        "outputId": "5e4b46ff-2eea-4fe2-dfe6-21c5cfaefdc7"
      },
      "execution_count": 10,
      "outputs": [
        {
          "output_type": "execute_result",
          "data": {
            "text/plain": [
              "False"
            ]
          },
          "metadata": {},
          "execution_count": 10
        }
      ]
    },
    {
      "cell_type": "code",
      "source": [
        "data.isnull().any()"
      ],
      "metadata": {
        "colab": {
          "base_uri": "https://localhost:8080/"
        },
        "id": "mwQZicF8XLMT",
        "outputId": "1e8b4e7f-e1c9-4167-a9a2-f34836368e37"
      },
      "execution_count": 11,
      "outputs": [
        {
          "output_type": "execute_result",
          "data": {
            "text/plain": [
              "CustomerID                False\n",
              "Gender                    False\n",
              "Age                       False\n",
              "Annual Income (k$)        False\n",
              "Spending Score (1-100)    False\n",
              "dtype: bool"
            ]
          },
          "metadata": {},
          "execution_count": 11
        }
      ]
    },
    {
      "cell_type": "code",
      "source": [
        "df2=data.dropna(how='all')"
      ],
      "metadata": {
        "id": "Vg3zWHi7XLQj"
      },
      "execution_count": 12,
      "outputs": []
    },
    {
      "cell_type": "markdown",
      "source": [
        "5. Check for Missing values and deal with them."
      ],
      "metadata": {
        "id": "nbINqRinXX6q"
      }
    },
    {
      "cell_type": "code",
      "source": [
        "df2.isnull().sum().sum()"
      ],
      "metadata": {
        "id": "lbjMq-cXXLTi"
      },
      "execution_count": null,
      "outputs": []
    },
    {
      "cell_type": "markdown",
      "source": [
        "This dataset does not contain any missing value."
      ],
      "metadata": {
        "id": "dF8JulUmXb_i"
      }
    },
    {
      "cell_type": "code",
      "source": [
        "missing_values=data.isnull().sum()\n",
        "missing_values[missing_values>0]/len(data)*100"
      ],
      "metadata": {
        "colab": {
          "base_uri": "https://localhost:8080/"
        },
        "id": "XwGIjwS9XLWw",
        "outputId": "27f03347-6d99-4b82-ca51-cc656d14f339"
      },
      "execution_count": 13,
      "outputs": [
        {
          "output_type": "execute_result",
          "data": {
            "text/plain": [
              "Series([], dtype: float64)"
            ]
          },
          "metadata": {},
          "execution_count": 13
        }
      ]
    },
    {
      "cell_type": "markdown",
      "source": [
        "6.Find the outliers and replace them outliers"
      ],
      "metadata": {
        "id": "LtLc8HdBXq8S"
      }
    },
    {
      "cell_type": "code",
      "source": [
        "sns.boxplot(data['Age'],data=data)"
      ],
      "metadata": {
        "colab": {
          "base_uri": "https://localhost:8080/",
          "height": 351
        },
        "id": "1xFd9tz2XLZS",
        "outputId": "439b7860-76e7-4c84-d3a7-b5fe234c9621"
      },
      "execution_count": 14,
      "outputs": [
        {
          "output_type": "stream",
          "name": "stderr",
          "text": [
            "/usr/local/lib/python3.7/dist-packages/seaborn/_decorators.py:43: FutureWarning: Pass the following variable as a keyword arg: x. From version 0.12, the only valid positional argument will be `data`, and passing other arguments without an explicit keyword will result in an error or misinterpretation.\n",
            "  FutureWarning\n"
          ]
        },
        {
          "output_type": "execute_result",
          "data": {
            "text/plain": [
              "<matplotlib.axes._subplots.AxesSubplot at 0x7f0550338050>"
            ]
          },
          "metadata": {},
          "execution_count": 14
        },
        {
          "output_type": "display_data",
          "data": {
            "text/plain": [
              "<Figure size 432x288 with 1 Axes>"
            ],
            "image/png": "[encoded data removed]"
          },
          "metadata": {
            "needs_background": "light"
          }
        }
      ]
    },
    {
      "cell_type": "code",
      "source": [
        "for x in ['Age']:\n",
        "    q75,q25 = np.percentile(data.loc[:,x],[75,25])\n",
        "    intr_qr = q75-q25\n",
        "\n",
        "    max = q75+(1.5*intr_qr)\n",
        "    min = q25-(1.5*intr_qr)\n",
        "\n",
        "    data.loc[data[x] < min,x] = np.nan\n",
        "    data.loc[data[x] > max,x] = np.nan"
      ],
      "metadata": {
        "id": "dV5LqH51XLcw"
      },
      "execution_count": 15,
      "outputs": []
    },
    {
      "cell_type": "code",
      "source": [
        "data.isnull().sum()"
      ],
      "metadata": {
        "colab": {
          "base_uri": "https://localhost:8080/"
        },
        "id": "YeMd0dBlXLf6",
        "outputId": "d8c3bccc-f8af-4d07-99f5-e6bba94f7180"
      },
      "execution_count": 16,
      "outputs": [
        {
          "output_type": "execute_result",
          "data": {
            "text/plain": [
              "CustomerID                0\n",
              "Gender                    0\n",
              "Age                       0\n",
              "Annual Income (k$)        0\n",
              "Spending Score (1-100)    0\n",
              "dtype: int64"
            ]
          },
          "metadata": {},
          "execution_count": 16
        }
      ]
    },
    {
      "cell_type": "markdown",
      "source": [
        "7. Check for Categorical columns and perform encoding."
      ],
      "metadata": {
        "id": "EDgmtbJoYG4a"
      }
    },
    {
      "cell_type": "code",
      "source": [
        "from sklearn.preprocessing import LabelEncoder\n",
        "encoder=LabelEncoder()\n",
        "data['Gender']=encoder.fit_transform(data['Gender'])"
      ],
      "metadata": {
        "id": "AGVYEl2PXLjZ"
      },
      "execution_count": 17,
      "outputs": []
    },
    {
      "cell_type": "code",
      "source": [
        "data.head()"
      ],
      "metadata": {
        "colab": {
          "base_uri": "https://localhost:8080/",
          "height": 206
        },
        "id": "E73kxn_TXLnD",
        "outputId": "b035357a-65c5-416d-c7a5-99be370d548c"
      },
      "execution_count": 18,
      "outputs": [
        {
          "output_type": "execute_result",
          "data": {
            "text/plain": [
              "   CustomerID  Gender   Age  Annual Income (k$)  Spending Score (1-100)\n",
              "0           1       1  19.0                  15                      39\n",
              "1           2       1  21.0                  15                      81\n",
              "2           3       0  20.0                  16                       6\n",
              "3           4       0  23.0                  16                      77\n",
              "4           5       0  31.0                  17                      40"
            ],
            "text/html": [
              "\n",
              "  <div id=\"df-80e1983b-b728-4710-b9db-2e9dfd0d1976\">\n",
              "    <div class=\"colab-df-container\">\n",
              "      <div>\n",
              "<style scoped>\n",
              "    .dataframe tbody tr th:only-of-type {\n",
              "        vertical-align: middle;\n",
              "    }\n",
              "\n",
              "    .dataframe tbody tr th {\n",
              "        vertical-align: top;\n",
              "    }\n",
              "\n",
              "    .dataframe thead th {\n",
              "        text-align: right;\n",
              "    }\n",
              "</style>\n",
              "<table border=\"1\" class=\"dataframe\">\n",
              "  <thead>\n",
              "    <tr style=\"text-align: right;\">\n",
              "      <th></th>\n",
              "      <th>CustomerID</th>\n",
              "      <th>Gender</th>\n",
              "      <th>Age</th>\n",
              "      <th>Annual Income (k$)</th>\n",
              "      <th>Spending Score (1-100)</th>\n",
              "    </tr>\n",
              "  </thead>\n",
              "  <tbody>\n",
              "    <tr>\n",
              "      <th>0</th>\n",
              "      <td>1</td>\n",
              "      <td>1</td>\n",
              "      <td>19.0</td>\n",
              "      <td>15</td>\n",
              "      <td>39</td>\n",
              "    </tr>\n",
              "    <tr>\n",
              "      <th>1</th>\n",
              "      <td>2</td>\n",
              "      <td>1</td>\n",
              "      <td>21.0</td>\n",
              "      <td>15</td>\n",
              "      <td>81</td>\n",
              "    </tr>\n",
              "    <tr>\n",
              "      <th>2</th>\n",
              "      <td>3</td>\n",
              "      <td>0</td>\n",
              "      <td>20.0</td>\n",
              "      <td>16</td>\n",
              "      <td>6</td>\n",
              "    </tr>\n",
              "    <tr>\n",
              "      <th>3</th>\n",
              "      <td>4</td>\n",
              "      <td>0</td>\n",
              "      <td>23.0</td>\n",
              "      <td>16</td>\n",
              "      <td>77</td>\n",
              "    </tr>\n",
              "    <tr>\n",
              "      <th>4</th>\n",
              "      <td>5</td>\n",
              "      <td>0</td>\n",
              "      <td>31.0</td>\n",
              "      <td>17</td>\n",
              "      <td>40</td>\n",
              "    </tr>\n",
              "  </tbody>\n",
              "</table>\n",
              "</div>\n",
              "      <button class=\"colab-df-convert\" onclick=\"convertToInteractive('df-80e1983b-b728-4710-b9db-2e9dfd0d1976')\"\n",
              "              title=\"Convert this dataframe to an interactive table.\"\n",
              "              style=\"display:none;\">\n",
              "        \n",
              "  <svg xmlns=\"http://www.w3.org/2000/svg\" height=\"24px\"viewBox=\"0 0 24 24\"\n",
              "       width=\"24px\">\n",
              "    <path d=\"M0 0h24v24H0V0z\" fill=\"none\"/>\n",
              "    <path d=\"M18.56 5.44l.94 2.06.94-2.06 2.06-.94-2.06-.94-.94-2.06-.94 2.06-2.06.94zm-11 1L8.5 8.5l.94-2.06 2.06-.94-2.06-.94L8.5 2.5l-.94 2.06-2.06.94zm10 10l.94 2.06.94-2.06 2.06-.94-2.06-.94-.94-2.06-.94 2.06-2.06.94z\"/><path d=\"M17.41 7.96l-1.37-1.37c-.4-.4-.92-.59-1.43-.59-.52 0-1.04.2-1.43.59L10.3 9.45l-7.72 7.72c-.78.78-.78 2.05 0 2.83L4 21.41c.39.39.9.59 1.41.59.51 0 1.02-.2 1.41-.59l7.78-7.78 2.81-2.81c.8-.78.8-2.07 0-2.86zM5.41 20L4 18.59l7.72-7.72 1.47 1.35L5.41 20z\"/>\n",
              "  </svg>\n",
              "      </button>\n",
              "      \n",
              "  <style>\n",
              "    .colab-df-container {\n",
              "      display:flex;\n",
              "      flex-wrap:wrap;\n",
              "      gap: 12px;\n",
              "    }\n",
              "\n",
              "    .colab-df-convert {\n",
              "      background-color: #E8F0FE;\n",
              "      border: none;\n",
              "      border-radius: 50%;\n",
              "      cursor: pointer;\n",
              "      display: none;\n",
              "      fill: #1967D2;\n",
              "      height: 32px;\n",
              "      padding: 0 0 0 0;\n",
              "      width: 32px;\n",
              "    }\n",
              "\n",
              "    .colab-df-convert:hover {\n",
              "      background-color: #E2EBFA;\n",
              "      box-shadow: 0px 1px 2px rgba(60, 64, 67, 0.3), 0px 1px 3px 1px rgba(60, 64, 67, 0.15);\n",
              "      fill: #174EA6;\n",
              "    }\n",
              "\n",
              "    [theme=dark] .colab-df-convert {\n",
              "      background-color: #3B4455;\n",
              "      fill: #D2E3FC;\n",
              "    }\n",
              "\n",
              "    [theme=dark] .colab-df-convert:hover {\n",
              "      background-color: #434B5C;\n",
              "      box-shadow: 0px 1px 3px 1px rgba(0, 0, 0, 0.15);\n",
              "      filter: drop-shadow(0px 1px 2px rgba(0, 0, 0, 0.3));\n",
              "      fill: #FFFFFF;\n",
              "    }\n",
              "  </style>\n",
              "\n",
              "      <script>\n",
              "        const buttonEl =\n",
              "          document.querySelector('#df-80e1983b-b728-4710-b9db-2e9dfd0d1976 button.colab-df-convert');\n",
              "        buttonEl.style.display =\n",
              "          google.colab.kernel.accessAllowed ? 'block' : 'none';\n",
              "\n",
              "        async function convertToInteractive(key) {\n",
              "          const element = document.querySelector('#df-80e1983b-b728-4710-b9db-2e9dfd0d1976');\n",
              "          const dataTable =\n",
              "            await google.colab.kernel.invokeFunction('convertToInteractive',\n",
              "                                                     [key], {});\n",
              "          if (!dataTable) return;\n",
              "\n",
              "          const docLinkHtml = 'Like what you see? Visit the ' +\n",
              "            '<a target=\"_blank\" href=https://colab.research.google.com/notebooks/data_table.ipynb>data table notebook</a>'\n",
              "            + ' to learn more about interactive tables.';\n",
              "          element.innerHTML = '';\n",
              "          dataTable['output_type'] = 'display_data';\n",
              "          await google.colab.output.renderOutput(dataTable, element);\n",
              "          const docLink = document.createElement('div');\n",
              "          docLink.innerHTML = docLinkHtml;\n",
              "          element.appendChild(docLink);\n",
              "        }\n",
              "      </script>\n",
              "    </div>\n",
              "  </div>\n",
              "  "
            ]
          },
          "metadata": {},
          "execution_count": 18
        }
      ]
    },
    {
      "cell_type": "markdown",
      "source": [
        "8. Scaling the data"
      ],
      "metadata": {
        "id": "WdkCZQrfYUkR"
      }
    },
    {
      "cell_type": "code",
      "source": [
        "from sklearn.preprocessing import StandardScaler\n",
        "df=StandardScaler()\n",
        "data1=df.fit_transform(data)"
      ],
      "metadata": {
        "id": "ii3Dpqx5XLpl"
      },
      "execution_count": 19,
      "outputs": []
    },
    {
      "cell_type": "code",
      "source": [
        "data1"
      ],
      "metadata": {
        "colab": {
          "base_uri": "https://localhost:8080/"
        },
        "id": "JwZi4X65YZml",
        "outputId": "efec2f57-e71f-4b3f-cf08-696b9e5aac0a"
      },
      "execution_count": 20,
      "outputs": [
        {
          "output_type": "execute_result",
          "data": {
            "text/plain": [
              "array([[-1.7234121 ,  1.12815215, -1.42456879, -1.73899919, -0.43480148],\n",
              "       [-1.70609137,  1.12815215, -1.28103541, -1.73899919,  1.19570407],\n",
              "       [-1.68877065, -0.88640526, -1.3528021 , -1.70082976, -1.71591298],\n",
              "       [-1.67144992, -0.88640526, -1.13750203, -1.70082976,  1.04041783],\n",
              "       [-1.6541292 , -0.88640526, -0.56336851, -1.66266033, -0.39597992],\n",
              "       [-1.63680847, -0.88640526, -1.20926872, -1.66266033,  1.00159627],\n",
              "       [-1.61948775, -0.88640526, -0.27630176, -1.62449091, -1.71591298],\n",
              "       [-1.60216702, -0.88640526, -1.13750203, -1.62449091,  1.70038436],\n",
              "       [-1.5848463 ,  1.12815215,  1.80493225, -1.58632148, -1.83237767],\n",
              "       [-1.56752558, -0.88640526, -0.6351352 , -1.58632148,  0.84631002],\n",
              "       [-1.55020485,  1.12815215,  2.02023231, -1.58632148, -1.4053405 ],\n",
              "       [-1.53288413, -0.88640526, -0.27630176, -1.58632148,  1.89449216],\n",
              "       [-1.5155634 , -0.88640526,  1.37433211, -1.54815205, -1.36651894],\n",
              "       [-1.49824268, -0.88640526, -1.06573534, -1.54815205,  1.04041783],\n",
              "       [-1.48092195,  1.12815215, -0.13276838, -1.54815205, -1.44416206],\n",
              "       [-1.46360123,  1.12815215, -1.20926872, -1.54815205,  1.11806095],\n",
              "       [-1.4462805 , -0.88640526, -0.27630176, -1.50998262, -0.59008772],\n",
              "       [-1.42895978,  1.12815215, -1.3528021 , -1.50998262,  0.61338066],\n",
              "       [-1.41163905,  1.12815215,  0.94373197, -1.43364376, -0.82301709],\n",
              "       [-1.39431833, -0.88640526, -0.27630176, -1.43364376,  1.8556706 ],\n",
              "       [-1.3769976 ,  1.12815215, -0.27630176, -1.39547433, -0.59008772],\n",
              "       [-1.35967688,  1.12815215, -0.99396865, -1.39547433,  0.88513158],\n",
              "       [-1.34235616, -0.88640526,  0.51313183, -1.3573049 , -1.75473454],\n",
              "       [-1.32503543,  1.12815215, -0.56336851, -1.3573049 ,  0.88513158],\n",
              "       [-1.30771471, -0.88640526,  1.08726535, -1.24279661, -1.4053405 ],\n",
              "       [-1.29039398,  1.12815215, -0.70690189, -1.24279661,  1.23452563],\n",
              "       [-1.27307326, -0.88640526,  0.44136514, -1.24279661, -0.7065524 ],\n",
              "       [-1.25575253,  1.12815215, -0.27630176, -1.24279661,  0.41927286],\n",
              "       [-1.23843181, -0.88640526,  0.08253169, -1.20462718, -0.74537397],\n",
              "       [-1.22111108, -0.88640526, -1.13750203, -1.20462718,  1.42863343],\n",
              "       [-1.20379036,  1.12815215,  1.51786549, -1.16645776, -1.7935561 ],\n",
              "       [-1.18646963, -0.88640526, -1.28103541, -1.16645776,  0.88513158],\n",
              "       [-1.16914891,  1.12815215,  1.01549866, -1.05194947, -1.7935561 ],\n",
              "       [-1.15182818,  1.12815215, -1.49633548, -1.05194947,  1.62274124],\n",
              "       [-1.13450746, -0.88640526,  0.7284319 , -1.05194947, -1.4053405 ],\n",
              "       [-1.11718674, -0.88640526, -1.28103541, -1.05194947,  1.19570407],\n",
              "       [-1.09986601, -0.88640526,  0.22606507, -1.01378004, -1.28887582],\n",
              "       [-1.08254529, -0.88640526, -0.6351352 , -1.01378004,  0.88513158],\n",
              "       [-1.06522456, -0.88640526, -0.20453507, -0.89927175, -0.93948177],\n",
              "       [-1.04790384, -0.88640526, -1.3528021 , -0.89927175,  0.96277471],\n",
              "       [-1.03058311, -0.88640526,  1.87669894, -0.86110232, -0.59008772],\n",
              "       [-1.01326239,  1.12815215, -1.06573534, -0.86110232,  1.62274124],\n",
              "       [-0.99594166,  1.12815215,  0.65666521, -0.82293289, -0.55126616],\n",
              "       [-0.97862094, -0.88640526, -0.56336851, -0.82293289,  0.41927286],\n",
              "       [-0.96130021, -0.88640526,  0.7284319 , -0.82293289, -0.86183865],\n",
              "       [-0.94397949, -0.88640526, -1.06573534, -0.82293289,  0.5745591 ],\n",
              "       [-0.92665877, -0.88640526,  0.80019859, -0.78476346,  0.18634349],\n",
              "       [-0.90933804, -0.88640526, -0.85043527, -0.78476346, -0.12422899],\n",
              "       [-0.89201732, -0.88640526, -0.70690189, -0.78476346, -0.3183368 ],\n",
              "       [-0.87469659, -0.88640526, -0.56336851, -0.78476346, -0.3183368 ],\n",
              "       [-0.85737587, -0.88640526,  0.7284319 , -0.70842461,  0.06987881],\n",
              "       [-0.84005514,  1.12815215, -0.41983513, -0.70842461,  0.38045129],\n",
              "       [-0.82273442, -0.88640526, -0.56336851, -0.67025518,  0.14752193],\n",
              "       [-0.80541369,  1.12815215,  1.4460988 , -0.67025518,  0.38045129],\n",
              "       [-0.78809297, -0.88640526,  0.80019859, -0.67025518, -0.20187212],\n",
              "       [-0.77077224,  1.12815215,  0.58489852, -0.67025518, -0.35715836],\n",
              "       [-0.75345152, -0.88640526,  0.87196528, -0.63208575, -0.00776431],\n",
              "       [-0.73613079,  1.12815215,  2.16376569, -0.63208575, -0.16305055],\n",
              "       [-0.71881007, -0.88640526, -0.85043527, -0.55574689,  0.03105725],\n",
              "       [-0.70148935,  1.12815215,  1.01549866, -0.55574689, -0.16305055],\n",
              "       [-0.68416862,  1.12815215,  2.23553238, -0.55574689,  0.22516505],\n",
              "       [-0.6668479 ,  1.12815215, -1.42456879, -0.55574689,  0.18634349],\n",
              "       [-0.64952717, -0.88640526,  2.02023231, -0.51757746,  0.06987881],\n",
              "       [-0.63220645, -0.88640526,  1.08726535, -0.51757746,  0.34162973],\n",
              "       [-0.61488572,  1.12815215,  1.73316556, -0.47940803,  0.03105725],\n",
              "       [-0.597565  ,  1.12815215, -1.49633548, -0.47940803,  0.34162973],\n",
              "       [-0.58024427, -0.88640526,  0.29783176, -0.47940803, -0.00776431],\n",
              "       [-0.56292355, -0.88640526,  2.091999  , -0.47940803, -0.08540743],\n",
              "       [-0.54560282,  1.12815215, -1.42456879, -0.47940803,  0.34162973],\n",
              "       [-0.5282821 , -0.88640526, -0.49160182, -0.47940803, -0.12422899],\n",
              "       [-0.51096138,  1.12815215,  2.23553238, -0.4412386 ,  0.18634349],\n",
              "       [-0.49364065, -0.88640526,  0.58489852, -0.4412386 , -0.3183368 ],\n",
              "       [-0.47631993, -0.88640526,  1.51786549, -0.40306917, -0.04658587],\n",
              "       [-0.4589992 , -0.88640526,  1.51786549, -0.40306917,  0.22516505],\n",
              "       [-0.44167848,  1.12815215,  1.4460988 , -0.25039146, -0.12422899],\n",
              "       [-0.42435775,  1.12815215, -0.92220196, -0.25039146,  0.14752193],\n",
              "       [-0.40703703, -0.88640526,  0.44136514, -0.25039146,  0.10870037],\n",
              "       [-0.3897163 ,  1.12815215,  0.08253169, -0.25039146, -0.08540743],\n",
              "       [-0.37239558, -0.88640526, -1.13750203, -0.25039146,  0.06987881],\n",
              "       [-0.35507485, -0.88640526,  0.7284319 , -0.25039146, -0.3183368 ],\n",
              "       [-0.33775413,  1.12815215,  1.30256542, -0.25039146,  0.03105725],\n",
              "       [-0.3204334 ,  1.12815215, -0.06100169, -0.25039146,  0.18634349],\n",
              "       [-0.30311268,  1.12815215,  2.02023231, -0.25039146, -0.35715836],\n",
              "       [-0.28579196, -0.88640526,  0.51313183, -0.25039146, -0.24069368],\n",
              "       [-0.26847123, -0.88640526, -1.28103541, -0.25039146,  0.26398661],\n",
              "       [-0.25115051,  1.12815215,  0.65666521, -0.25039146, -0.16305055],\n",
              "       [-0.23382978, -0.88640526,  1.15903204, -0.13588317,  0.30280817],\n",
              "       [-0.21650906, -0.88640526, -1.20926872, -0.13588317,  0.18634349],\n",
              "       [-0.19918833, -0.88640526, -0.34806844, -0.09771374,  0.38045129],\n",
              "       [-0.18186761, -0.88640526,  0.80019859, -0.09771374, -0.16305055],\n",
              "       [-0.16454688, -0.88640526,  2.091999  , -0.05954431,  0.18634349],\n",
              "       [-0.14722616,  1.12815215, -1.49633548, -0.05954431, -0.35715836],\n",
              "       [-0.12990543,  1.12815215,  0.65666521, -0.02137488, -0.04658587],\n",
              "       [-0.11258471, -0.88640526,  0.08253169, -0.02137488, -0.39597992],\n",
              "       [-0.09526399, -0.88640526, -0.49160182, -0.02137488, -0.3183368 ],\n",
              "       [-0.07794326,  1.12815215, -1.06573534, -0.02137488,  0.06987881],\n",
              "       [-0.06062254, -0.88640526,  0.58489852, -0.02137488, -0.12422899],\n",
              "       [-0.04330181, -0.88640526, -0.85043527, -0.02137488, -0.00776431],\n",
              "       [-0.02598109,  1.12815215,  0.65666521,  0.01679455, -0.3183368 ],\n",
              "       [-0.00866036,  1.12815215, -1.3528021 ,  0.01679455, -0.04658587],\n",
              "       [ 0.00866036, -0.88640526, -1.13750203,  0.05496398, -0.35715836],\n",
              "       [ 0.02598109, -0.88640526,  0.7284319 ,  0.05496398, -0.08540743],\n",
              "       [ 0.04330181,  1.12815215,  2.02023231,  0.05496398,  0.34162973],\n",
              "       [ 0.06062254,  1.12815215, -0.92220196,  0.05496398,  0.18634349],\n",
              "       [ 0.07794326,  1.12815215,  0.7284319 ,  0.05496398,  0.22516505],\n",
              "       [ 0.09526399, -0.88640526, -1.28103541,  0.05496398, -0.3183368 ],\n",
              "       [ 0.11258471, -0.88640526,  1.94846562,  0.09313341, -0.00776431],\n",
              "       [ 0.12990543,  1.12815215,  1.08726535,  0.09313341, -0.16305055],\n",
              "       [ 0.14722616,  1.12815215,  2.091999  ,  0.09313341, -0.27951524],\n",
              "       [ 0.16454688,  1.12815215,  1.94846562,  0.09313341, -0.08540743],\n",
              "       [ 0.18186761,  1.12815215,  1.87669894,  0.09313341,  0.06987881],\n",
              "       [ 0.19918833, -0.88640526, -1.42456879,  0.09313341,  0.14752193],\n",
              "       [ 0.21650906, -0.88640526, -0.06100169,  0.13130284, -0.3183368 ],\n",
              "       [ 0.23382978,  1.12815215, -1.42456879,  0.13130284, -0.16305055],\n",
              "       [ 0.25115051, -0.88640526, -1.49633548,  0.16947227, -0.08540743],\n",
              "       [ 0.26847123, -0.88640526, -1.42456879,  0.16947227, -0.00776431],\n",
              "       [ 0.28579196, -0.88640526,  1.73316556,  0.16947227, -0.27951524],\n",
              "       [ 0.30311268, -0.88640526,  0.7284319 ,  0.16947227,  0.34162973],\n",
              "       [ 0.3204334 , -0.88640526,  0.87196528,  0.24581112, -0.27951524],\n",
              "       [ 0.33775413, -0.88640526,  0.80019859,  0.24581112,  0.26398661],\n",
              "       [ 0.35507485,  1.12815215, -0.85043527,  0.24581112,  0.22516505],\n",
              "       [ 0.37239558, -0.88640526, -0.06100169,  0.24581112, -0.39597992],\n",
              "       [ 0.3897163 , -0.88640526,  0.08253169,  0.32214998,  0.30280817],\n",
              "       [ 0.40703703,  1.12815215,  0.010765  ,  0.32214998,  1.58391968],\n",
              "       [ 0.42435775, -0.88640526, -1.13750203,  0.36031941, -0.82301709],\n",
              "       [ 0.44167848, -0.88640526, -0.56336851,  0.36031941,  1.04041783],\n",
              "       [ 0.4589992 ,  1.12815215,  0.29783176,  0.39848884, -0.59008772],\n",
              "       [ 0.47631993,  1.12815215,  0.08253169,  0.39848884,  1.73920592],\n",
              "       [ 0.49364065,  1.12815215,  1.4460988 ,  0.39848884, -1.52180518],\n",
              "       [ 0.51096138,  1.12815215, -0.06100169,  0.39848884,  0.96277471],\n",
              "       [ 0.5282821 ,  1.12815215,  0.58489852,  0.39848884, -1.5994483 ],\n",
              "       [ 0.54560282,  1.12815215,  0.010765  ,  0.39848884,  0.96277471],\n",
              "       [ 0.56292355, -0.88640526, -0.99396865,  0.43665827, -0.62890928],\n",
              "       [ 0.58024427, -0.88640526, -0.56336851,  0.43665827,  0.80748846],\n",
              "       [ 0.597565  ,  1.12815215, -1.3528021 ,  0.4748277 , -1.75473454],\n",
              "       [ 0.61488572, -0.88640526, -0.70690189,  0.4748277 ,  1.46745499],\n",
              "       [ 0.63220645, -0.88640526,  0.36959845,  0.4748277 , -1.67709142],\n",
              "       [ 0.64952717,  1.12815215, -0.49160182,  0.4748277 ,  0.88513158],\n",
              "       [ 0.6668479 ,  1.12815215, -1.42456879,  0.51299713, -1.56062674],\n",
              "       [ 0.68416862, -0.88640526, -0.27630176,  0.51299713,  0.84631002],\n",
              "       [ 0.70148935, -0.88640526,  1.30256542,  0.55116656, -1.75473454],\n",
              "       [ 0.71881007,  1.12815215, -0.49160182,  0.55116656,  1.6615628 ],\n",
              "       [ 0.73613079, -0.88640526, -0.77866858,  0.58933599, -0.39597992],\n",
              "       [ 0.75345152, -0.88640526, -0.49160182,  0.58933599,  1.42863343],\n",
              "       [ 0.77077224,  1.12815215, -0.99396865,  0.62750542, -1.48298362],\n",
              "       [ 0.78809297,  1.12815215, -0.77866858,  0.62750542,  1.81684904],\n",
              "       [ 0.80541369,  1.12815215,  0.65666521,  0.62750542, -0.55126616],\n",
              "       [ 0.82273442, -0.88640526, -0.49160182,  0.62750542,  0.92395314],\n",
              "       [ 0.84005514, -0.88640526, -0.34806844,  0.66567484, -1.09476801],\n",
              "       [ 0.85737587,  1.12815215, -0.34806844,  0.66567484,  1.54509812],\n",
              "       [ 0.87469659,  1.12815215,  0.29783176,  0.66567484, -1.28887582],\n",
              "       [ 0.89201732,  1.12815215,  0.010765  ,  0.66567484,  1.46745499],\n",
              "       [ 0.90933804, -0.88640526,  0.36959845,  0.66567484, -1.17241113],\n",
              "       [ 0.92665877, -0.88640526, -0.06100169,  0.66567484,  1.00159627],\n",
              "       [ 0.94397949, -0.88640526,  0.58489852,  0.66567484, -1.32769738],\n",
              "       [ 0.96130021, -0.88640526, -0.85043527,  0.66567484,  1.50627656],\n",
              "       [ 0.97862094,  1.12815215, -0.13276838,  0.66567484, -1.91002079],\n",
              "       [ 0.99594166, -0.88640526, -0.6351352 ,  0.66567484,  1.07923939],\n",
              "       [ 1.01326239,  1.12815215, -0.34806844,  0.66567484, -1.91002079],\n",
              "       [ 1.03058311, -0.88640526, -0.6351352 ,  0.66567484,  0.88513158],\n",
              "       [ 1.04790384, -0.88640526,  1.23079873,  0.70384427, -0.59008772],\n",
              "       [ 1.06522456, -0.88640526, -0.70690189,  0.70384427,  1.27334719],\n",
              "       [ 1.08254529,  1.12815215, -1.42456879,  0.78018313, -1.75473454],\n",
              "       [ 1.09986601, -0.88640526, -0.56336851,  0.78018313,  1.6615628 ],\n",
              "       [ 1.11718674,  1.12815215,  0.80019859,  0.93286085, -0.93948177],\n",
              "       [ 1.13450746, -0.88640526, -0.20453507,  0.93286085,  0.96277471],\n",
              "       [ 1.15182818,  1.12815215,  0.22606507,  0.97103028, -1.17241113],\n",
              "       [ 1.16914891, -0.88640526, -0.41983513,  0.97103028,  1.73920592],\n",
              "       [ 1.18646963, -0.88640526, -0.20453507,  1.00919971, -0.90066021],\n",
              "       [ 1.20379036,  1.12815215, -0.49160182,  1.00919971,  0.49691598],\n",
              "       [ 1.22111108,  1.12815215,  0.08253169,  1.00919971, -1.44416206],\n",
              "       [ 1.23843181,  1.12815215, -0.77866858,  1.00919971,  0.96277471],\n",
              "       [ 1.25575253,  1.12815215, -0.20453507,  1.00919971, -1.56062674],\n",
              "       [ 1.27307326,  1.12815215, -0.20453507,  1.00919971,  1.62274124],\n",
              "       [ 1.29039398, -0.88640526,  0.94373197,  1.04736914, -1.44416206],\n",
              "       [ 1.30771471, -0.88640526, -0.6351352 ,  1.04736914,  1.38981187],\n",
              "       [ 1.32503543,  1.12815215,  1.37433211,  1.04736914, -1.36651894],\n",
              "       [ 1.34235616,  1.12815215, -0.85043527,  1.04736914,  0.72984534],\n",
              "       [ 1.35967688,  1.12815215,  1.4460988 ,  1.23821628, -1.4053405 ],\n",
              "       [ 1.3769976 ,  1.12815215, -0.27630176,  1.23821628,  1.54509812],\n",
              "       [ 1.39431833, -0.88640526, -0.13276838,  1.390894  , -0.7065524 ],\n",
              "       [ 1.41163905, -0.88640526, -0.49160182,  1.390894  ,  1.38981187],\n",
              "       [ 1.42895978,  1.12815215,  0.51313183,  1.42906343, -1.36651894],\n",
              "       [ 1.4462805 , -0.88640526, -0.70690189,  1.42906343,  1.46745499],\n",
              "       [ 1.46360123, -0.88640526,  0.15429838,  1.46723286, -0.43480148],\n",
              "       [ 1.48092195,  1.12815215, -0.6351352 ,  1.46723286,  1.81684904],\n",
              "       [ 1.49824268, -0.88640526,  1.08726535,  1.54357172, -1.01712489],\n",
              "       [ 1.5155634 ,  1.12815215, -0.77866858,  1.54357172,  0.69102378],\n",
              "       [ 1.53288413, -0.88640526,  0.15429838,  1.61991057, -1.28887582],\n",
              "       [ 1.55020485, -0.88640526, -0.20453507,  1.61991057,  1.35099031],\n",
              "       [ 1.56752558, -0.88640526, -0.34806844,  1.61991057, -1.05594645],\n",
              "       [ 1.5848463 , -0.88640526, -0.49160182,  1.61991057,  0.72984534],\n",
              "       [ 1.60216702,  1.12815215, -0.41983513,  2.00160487, -1.63826986],\n",
              "       [ 1.61948775, -0.88640526, -0.06100169,  2.00160487,  1.58391968],\n",
              "       [ 1.63680847, -0.88640526,  0.58489852,  2.26879087, -1.32769738],\n",
              "       [ 1.6541292 , -0.88640526, -0.27630176,  2.26879087,  1.11806095],\n",
              "       [ 1.67144992, -0.88640526,  0.44136514,  2.49780745, -0.86183865],\n",
              "       [ 1.68877065,  1.12815215, -0.49160182,  2.49780745,  0.92395314],\n",
              "       [ 1.70609137,  1.12815215, -0.49160182,  2.91767117, -1.25005425],\n",
              "       [ 1.7234121 ,  1.12815215, -0.6351352 ,  2.91767117,  1.27334719]])"
            ]
          },
          "metadata": {},
          "execution_count": 20
        }
      ]
    },
    {
      "cell_type": "markdown",
      "source": [
        "9. Perform any of the clustering algorithms 10. Add the cluster data with the primary dataset"
      ],
      "metadata": {
        "id": "EiRSDvuIYhD3"
      }
    },
    {
      "cell_type": "code",
      "source": [
        "x = data.iloc[:, [3, 4]].values\n",
        "from sklearn.cluster import KMeans  \n",
        "wcss_list= []   \n",
        "for i in range(1, 11):  \n",
        "    kmeans = KMeans(n_clusters=i, init='k-means++', random_state= 42)  \n",
        "    kmeans.fit(x)  \n",
        "    wcss_list.append(kmeans.inertia_)  \n",
        "plt.plot(range(1, 11), wcss_list)  \n",
        "plt.title('The Elobw Method Graph')  \n",
        "plt.xlabel('Number of clusters(k)')  \n",
        "plt.ylabel('wcss_list')  \n",
        "plt.show()"
      ],
      "metadata": {
        "colab": {
          "base_uri": "https://localhost:8080/",
          "height": 295
        },
        "id": "YIrFyv0HYZqx",
        "outputId": "ccfae1fa-4367-45de-82e8-34037aa92d1e"
      },
      "execution_count": 21,
      "outputs": [
        {
          "output_type": "display_data",
          "data": {
            "text/plain": [
              "<Figure size 432x288 with 1 Axes>"
            ],
            "image/png": "[encoded data removed]"
          },
          "metadata": {
            "needs_background": "light"
          }
        }
      ]
    },
    {
      "cell_type": "code",
      "source": [
        "kmeans = KMeans(n_clusters=5, init='k-means++', random_state= 42)  \n",
        "y_predict= kmeans.fit_predict(x) \n",
        "plt.scatter(x[y_predict == 0, 0], x[y_predict == 0, 1], s = 100, c = 'blue', label = 'Cluster 1') #for first cluster  \n",
        "plt.scatter(x[y_predict == 1, 0], x[y_predict == 1, 1], s = 100, c = 'green', label = 'Cluster 2') #for second cluster  \n",
        "plt.scatter(x[y_predict== 2, 0], x[y_predict == 2, 1], s = 100, c = 'red', label = 'Cluster 3') #for third cluster  \n",
        "plt.scatter(x[y_predict == 3, 0], x[y_predict == 3, 1], s = 100, c = 'cyan', label = 'Cluster 4') #for fourth cluster  \n",
        "plt.scatter(x[y_predict == 4, 0], x[y_predict == 4, 1], s = 100, c = 'magenta', label = 'Cluster 5') #for fifth cluster  \n",
        "plt.scatter(kmeans.cluster_centers_[:, 0], kmeans.cluster_centers_[:, 1], s = 300, c = 'yellow', label = 'Centroid')   \n",
        "plt.title('Clusters of customers')  \n",
        "plt.xlabel('Annual Income (k$)')  \n",
        "plt.ylabel('Spending Score (1-100)')  \n",
        "plt.legend()  \n",
        "plt.show()"
      ],
      "metadata": {
        "colab": {
          "base_uri": "https://localhost:8080/",
          "height": 295
        },
        "id": "bQR7krHpYZtn",
        "outputId": "fea9956c-cc56-424f-87f5-58a67715fa63"
      },
      "execution_count": 22,
      "outputs": [
        {
          "output_type": "display_data",
          "data": {
            "text/plain": [
              "<Figure size 432x288 with 1 Axes>"
            ],
            "image/png": "[encoded data removed]"
          },
          "metadata": {
            "needs_background": "light"
          }
        }
      ]
    },
    {
      "cell_type": "markdown",
      "source": [
        "11. Split the data into dependent and independent\n",
        "variables"
      ],
      "metadata": {
        "id": "IV9gWtqYYzx-"
      }
    },
    {
      "cell_type": "code",
      "source": [
        "#target variable\n",
        "y=data['Age']\n",
        "y.head()"
      ],
      "metadata": {
        "colab": {
          "base_uri": "https://localhost:8080/"
        },
        "id": "nww112O7YZwv",
        "outputId": "bba0d4c1-b73b-480e-af1a-e8f2f8f79fb9"
      },
      "execution_count": 24,
      "outputs": [
        {
          "output_type": "execute_result",
          "data": {
            "text/plain": [
              "0    19.0\n",
              "1    21.0\n",
              "2    20.0\n",
              "3    23.0\n",
              "4    31.0\n",
              "Name: Age, dtype: float64"
            ]
          },
          "metadata": {},
          "execution_count": 24
        }
      ]
    },
    {
      "cell_type": "code",
      "source": [
        "#independent\n",
        "x=data.drop(columns=['Age'],axis=1)\n",
        "x.head()"
      ],
      "metadata": {
        "colab": {
          "base_uri": "https://localhost:8080/",
          "height": 206
        },
        "id": "kYSZ28pwYZy1",
        "outputId": "bd7d9834-fb17-4bfb-c95c-2ec1db136857"
      },
      "execution_count": 25,
      "outputs": [
        {
          "output_type": "execute_result",
          "data": {
            "text/plain": [
              "   CustomerID  Gender  Annual Income (k$)  Spending Score (1-100)\n",
              "0           1       1                  15                      39\n",
              "1           2       1                  15                      81\n",
              "2           3       0                  16                       6\n",
              "3           4       0                  16                      77\n",
              "4           5       0                  17                      40"
            ],
            "text/html": [
              "\n",
              "  <div id=\"df-22f4d0df-7470-4847-85be-19850b7a587e\">\n",
              "    <div class=\"colab-df-container\">\n",
              "      <div>\n",
              "<style scoped>\n",
              "    .dataframe tbody tr th:only-of-type {\n",
              "        vertical-align: middle;\n",
              "    }\n",
              "\n",
              "    .dataframe tbody tr th {\n",
              "        vertical-align: top;\n",
              "    }\n",
              "\n",
              "    .dataframe thead th {\n",
              "        text-align: right;\n",
              "    }\n",
              "</style>\n",
              "<table border=\"1\" class=\"dataframe\">\n",
              "  <thead>\n",
              "    <tr style=\"text-align: right;\">\n",
              "      <th></th>\n",
              "      <th>CustomerID</th>\n",
              "      <th>Gender</th>\n",
              "      <th>Annual Income (k$)</th>\n",
              "      <th>Spending Score (1-100)</th>\n",
              "    </tr>\n",
              "  </thead>\n",
              "  <tbody>\n",
              "    <tr>\n",
              "      <th>0</th>\n",
              "      <td>1</td>\n",
              "      <td>1</td>\n",
              "      <td>15</td>\n",
              "      <td>39</td>\n",
              "    </tr>\n",
              "    <tr>\n",
              "      <th>1</th>\n",
              "      <td>2</td>\n",
              "      <td>1</td>\n",
              "      <td>15</td>\n",
              "      <td>81</td>\n",
              "    </tr>\n",
              "    <tr>\n",
              "      <th>2</th>\n",
              "      <td>3</td>\n",
              "      <td>0</td>\n",
              "      <td>16</td>\n",
              "      <td>6</td>\n",
              "    </tr>\n",
              "    <tr>\n",
              "      <th>3</th>\n",
              "      <td>4</td>\n",
              "      <td>0</td>\n",
              "      <td>16</td>\n",
              "      <td>77</td>\n",
              "    </tr>\n",
              "    <tr>\n",
              "      <th>4</th>\n",
              "      <td>5</td>\n",
              "      <td>0</td>\n",
              "      <td>17</td>\n",
              "      <td>40</td>\n",
              "    </tr>\n",
              "  </tbody>\n",
              "</table>\n",
              "</div>\n",
              "      <button class=\"colab-df-convert\" onclick=\"convertToInteractive('df-22f4d0df-7470-4847-85be-19850b7a587e')\"\n",
              "              title=\"Convert this dataframe to an interactive table.\"\n",
              "              style=\"display:none;\">\n",
              "        \n",
              "  <svg xmlns=\"http://www.w3.org/2000/svg\" height=\"24px\"viewBox=\"0 0 24 24\"\n",
              "       width=\"24px\">\n",
              "    <path d=\"M0 0h24v24H0V0z\" fill=\"none\"/>\n",
              "    <path d=\"M18.56 5.44l.94 2.06.94-2.06 2.06-.94-2.06-.94-.94-2.06-.94 2.06-2.06.94zm-11 1L8.5 8.5l.94-2.06 2.06-.94-2.06-.94L8.5 2.5l-.94 2.06-2.06.94zm10 10l.94 2.06.94-2.06 2.06-.94-2.06-.94-.94-2.06-.94 2.06-2.06.94z\"/><path d=\"M17.41 7.96l-1.37-1.37c-.4-.4-.92-.59-1.43-.59-.52 0-1.04.2-1.43.59L10.3 9.45l-7.72 7.72c-.78.78-.78 2.05 0 2.83L4 21.41c.39.39.9.59 1.41.59.51 0 1.02-.2 1.41-.59l7.78-7.78 2.81-2.81c.8-.78.8-2.07 0-2.86zM5.41 20L4 18.59l7.72-7.72 1.47 1.35L5.41 20z\"/>\n",
              "  </svg>\n",
              "      </button>\n",
              "      \n",
              "  <style>\n",
              "    .colab-df-container {\n",
              "      display:flex;\n",
              "      flex-wrap:wrap;\n",
              "      gap: 12px;\n",
              "    }\n",
              "\n",
              "    .colab-df-convert {\n",
              "      background-color: #E8F0FE;\n",
              "      border: none;\n",
              "      border-radius: 50%;\n",
              "      cursor: pointer;\n",
              "      display: none;\n",
              "      fill: #1967D2;\n",
              "      height: 32px;\n",
              "      padding: 0 0 0 0;\n",
              "      width: 32px;\n",
              "    }\n",
              "\n",
              "    .colab-df-convert:hover {\n",
              "      background-color: #E2EBFA;\n",
              "      box-shadow: 0px 1px 2px rgba(60, 64, 67, 0.3), 0px 1px 3px 1px rgba(60, 64, 67, 0.15);\n",
              "      fill: #174EA6;\n",
              "    }\n",
              "\n",
              "    [theme=dark] .colab-df-convert {\n",
              "      background-color: #3B4455;\n",
              "      fill: #D2E3FC;\n",
              "    }\n",
              "\n",
              "    [theme=dark] .colab-df-convert:hover {\n",
              "      background-color: #434B5C;\n",
              "      box-shadow: 0px 1px 3px 1px rgba(0, 0, 0, 0.15);\n",
              "      filter: drop-shadow(0px 1px 2px rgba(0, 0, 0, 0.3));\n",
              "      fill: #FFFFFF;\n",
              "    }\n",
              "  </style>\n",
              "\n",
              "      <script>\n",
              "        const buttonEl =\n",
              "          document.querySelector('#df-22f4d0df-7470-4847-85be-19850b7a587e button.colab-df-convert');\n",
              "        buttonEl.style.display =\n",
              "          google.colab.kernel.accessAllowed ? 'block' : 'none';\n",
              "\n",
              "        async function convertToInteractive(key) {\n",
              "          const element = document.querySelector('#df-22f4d0df-7470-4847-85be-19850b7a587e');\n",
              "          const dataTable =\n",
              "            await google.colab.kernel.invokeFunction('convertToInteractive',\n",
              "                                                     [key], {});\n",
              "          if (!dataTable) return;\n",
              "\n",
              "          const docLinkHtml = 'Like what you see? Visit the ' +\n",
              "            '<a target=\"_blank\" href=https://colab.research.google.com/notebooks/data_table.ipynb>data table notebook</a>'\n",
              "            + ' to learn more about interactive tables.';\n",
              "          element.innerHTML = '';\n",
              "          dataTable['output_type'] = 'display_data';\n",
              "          await google.colab.output.renderOutput(dataTable, element);\n",
              "          const docLink = document.createElement('div');\n",
              "          docLink.innerHTML = docLinkHtml;\n",
              "          element.appendChild(docLink);\n",
              "        }\n",
              "      </script>\n",
              "    </div>\n",
              "  </div>\n",
              "  "
            ]
          },
          "metadata": {},
          "execution_count": 25
        }
      ]
    },
    {
      "cell_type": "code",
      "source": [
        "data=pd.get_dummies(data,columns=['Age'])\n",
        "data.head()"
      ],
      "metadata": {
        "colab": {
          "base_uri": "https://localhost:8080/",
          "height": 334
        },
        "id": "8frktFmNYZ1R",
        "outputId": "0a2cdda6-de02-4ee2-eff6-63222457b515"
      },
      "execution_count": 26,
      "outputs": [
        {
          "output_type": "execute_result",
          "data": {
            "text/plain": [
              "   CustomerID  Gender  Annual Income (k$)  Spending Score (1-100)  Age_18.0  \\\n",
              "0           1       1                  15                      39         0   \n",
              "1           2       1                  15                      81         0   \n",
              "2           3       0                  16                       6         0   \n",
              "3           4       0                  16                      77         0   \n",
              "4           5       0                  17                      40         0   \n",
              "\n",
              "   Age_19.0  Age_20.0  Age_21.0  Age_22.0  Age_23.0  ...  Age_59.0  Age_60.0  \\\n",
              "0         1         0         0         0         0  ...         0         0   \n",
              "1         0         0         1         0         0  ...         0         0   \n",
              "2         0         1         0         0         0  ...         0         0   \n",
              "3         0         0         0         0         1  ...         0         0   \n",
              "4         0         0         0         0         0  ...         0         0   \n",
              "\n",
              "   Age_63.0  Age_64.0  Age_65.0  Age_66.0  Age_67.0  Age_68.0  Age_69.0  \\\n",
              "0         0         0         0         0         0         0         0   \n",
              "1         0         0         0         0         0         0         0   \n",
              "2         0         0         0         0         0         0         0   \n",
              "3         0         0         0         0         0         0         0   \n",
              "4         0         0         0         0         0         0         0   \n",
              "\n",
              "   Age_70.0  \n",
              "0         0  \n",
              "1         0  \n",
              "2         0  \n",
              "3         0  \n",
              "4         0  \n",
              "\n",
              "[5 rows x 55 columns]"
            ],
            "text/html": [
              "\n",
              "  <div id=\"df-263a75fa-b90e-411d-8e8c-8dc5a32a91a4\">\n",
              "    <div class=\"colab-df-container\">\n",
              "      <div>\n",
              "<style scoped>\n",
              "    .dataframe tbody tr th:only-of-type {\n",
              "        vertical-align: middle;\n",
              "    }\n",
              "\n",
              "    .dataframe tbody tr th {\n",
              "        vertical-align: top;\n",
              "    }\n",
              "\n",
              "    .dataframe thead th {\n",
              "        text-align: right;\n",
              "    }\n",
              "</style>\n",
              "<table border=\"1\" class=\"dataframe\">\n",
              "  <thead>\n",
              "    <tr style=\"text-align: right;\">\n",
              "      <th></th>\n",
              "      <th>CustomerID</th>\n",
              "      <th>Gender</th>\n",
              "      <th>Annual Income (k$)</th>\n",
              "      <th>Spending Score (1-100)</th>\n",
              "      <th>Age_18.0</th>\n",
              "      <th>Age_19.0</th>\n",
              "      <th>Age_20.0</th>\n",
              "      <th>Age_21.0</th>\n",
              "      <th>Age_22.0</th>\n",
              "      <th>Age_23.0</th>\n",
              "      <th>...</th>\n",
              "      <th>Age_59.0</th>\n",
              "      <th>Age_60.0</th>\n",
              "      <th>Age_63.0</th>\n",
              "      <th>Age_64.0</th>\n",
              "      <th>Age_65.0</th>\n",
              "      <th>Age_66.0</th>\n",
              "      <th>Age_67.0</th>\n",
              "      <th>Age_68.0</th>\n",
              "      <th>Age_69.0</th>\n",
              "      <th>Age_70.0</th>\n",
              "    </tr>\n",
              "  </thead>\n",
              "  <tbody>\n",
              "    <tr>\n",
              "      <th>0</th>\n",
              "      <td>1</td>\n",
              "      <td>1</td>\n",
              "      <td>15</td>\n",
              "      <td>39</td>\n",
              "      <td>0</td>\n",
              "      <td>1</td>\n",
              "      <td>0</td>\n",
              "      <td>0</td>\n",
              "      <td>0</td>\n",
              "      <td>0</td>\n",
              "      <td>...</td>\n",
              "      <td>0</td>\n",
              "      <td>0</td>\n",
              "      <td>0</td>\n",
              "      <td>0</td>\n",
              "      <td>0</td>\n",
              "      <td>0</td>\n",
              "      <td>0</td>\n",
              "      <td>0</td>\n",
              "      <td>0</td>\n",
              "      <td>0</td>\n",
              "    </tr>\n",
              "    <tr>\n",
              "      <th>1</th>\n",
              "      <td>2</td>\n",
              "      <td>1</td>\n",
              "      <td>15</td>\n",
              "      <td>81</td>\n",
              "      <td>0</td>\n",
              "      <td>0</td>\n",
              "      <td>0</td>\n",
              "      <td>1</td>\n",
              "      <td>0</td>\n",
              "      <td>0</td>\n",
              "      <td>...</td>\n",
              "      <td>0</td>\n",
              "      <td>0</td>\n",
              "      <td>0</td>\n",
              "      <td>0</td>\n",
              "      <td>0</td>\n",
              "      <td>0</td>\n",
              "      <td>0</td>\n",
              "      <td>0</td>\n",
              "      <td>0</td>\n",
              "      <td>0</td>\n",
              "    </tr>\n",
              "    <tr>\n",
              "      <th>2</th>\n",
              "      <td>3</td>\n",
              "      <td>0</td>\n",
              "      <td>16</td>\n",
              "      <td>6</td>\n",
              "      <td>0</td>\n",
              "      <td>0</td>\n",
              "      <td>1</td>\n",
              "      <td>0</td>\n",
              "      <td>0</td>\n",
              "      <td>0</td>\n",
              "      <td>...</td>\n",
              "      <td>0</td>\n",
              "      <td>0</td>\n",
              "      <td>0</td>\n",
              "      <td>0</td>\n",
              "      <td>0</td>\n",
              "      <td>0</td>\n",
              "      <td>0</td>\n",
              "      <td>0</td>\n",
              "      <td>0</td>\n",
              "      <td>0</td>\n",
              "    </tr>\n",
              "    <tr>\n",
              "      <th>3</th>\n",
              "      <td>4</td>\n",
              "      <td>0</td>\n",
              "      <td>16</td>\n",
              "      <td>77</td>\n",
              "      <td>0</td>\n",
              "      <td>0</td>\n",
              "      <td>0</td>\n",
              "      <td>0</td>\n",
              "      <td>0</td>\n",
              "      <td>1</td>\n",
              "      <td>...</td>\n",
              "      <td>0</td>\n",
              "      <td>0</td>\n",
              "      <td>0</td>\n",
              "      <td>0</td>\n",
              "      <td>0</td>\n",
              "      <td>0</td>\n",
              "      <td>0</td>\n",
              "      <td>0</td>\n",
              "      <td>0</td>\n",
              "      <td>0</td>\n",
              "    </tr>\n",
              "    <tr>\n",
              "      <th>4</th>\n",
              "      <td>5</td>\n",
              "      <td>0</td>\n",
              "      <td>17</td>\n",
              "      <td>40</td>\n",
              "      <td>0</td>\n",
              "      <td>0</td>\n",
              "      <td>0</td>\n",
              "      <td>0</td>\n",
              "      <td>0</td>\n",
              "      <td>0</td>\n",
              "      <td>...</td>\n",
              "      <td>0</td>\n",
              "      <td>0</td>\n",
              "      <td>0</td>\n",
              "      <td>0</td>\n",
              "      <td>0</td>\n",
              "      <td>0</td>\n",
              "      <td>0</td>\n",
              "      <td>0</td>\n",
              "      <td>0</td>\n",
              "      <td>0</td>\n",
              "    </tr>\n",
              "  </tbody>\n",
              "</table>\n",
              "<p>5 rows × 55 columns</p>\n",
              "</div>\n",
              "      <button class=\"colab-df-convert\" onclick=\"convertToInteractive('df-263a75fa-b90e-411d-8e8c-8dc5a32a91a4')\"\n",
              "              title=\"Convert this dataframe to an interactive table.\"\n",
              "              style=\"display:none;\">\n",
              "        \n",
              "  <svg xmlns=\"http://www.w3.org/2000/svg\" height=\"24px\"viewBox=\"0 0 24 24\"\n",
              "       width=\"24px\">\n",
              "    <path d=\"M0 0h24v24H0V0z\" fill=\"none\"/>\n",
              "    <path d=\"M18.56 5.44l.94 2.06.94-2.06 2.06-.94-2.06-.94-.94-2.06-.94 2.06-2.06.94zm-11 1L8.5 8.5l.94-2.06 2.06-.94-2.06-.94L8.5 2.5l-.94 2.06-2.06.94zm10 10l.94 2.06.94-2.06 2.06-.94-2.06-.94-.94-2.06-.94 2.06-2.06.94z\"/><path d=\"M17.41 7.96l-1.37-1.37c-.4-.4-.92-.59-1.43-.59-.52 0-1.04.2-1.43.59L10.3 9.45l-7.72 7.72c-.78.78-.78 2.05 0 2.83L4 21.41c.39.39.9.59 1.41.59.51 0 1.02-.2 1.41-.59l7.78-7.78 2.81-2.81c.8-.78.8-2.07 0-2.86zM5.41 20L4 18.59l7.72-7.72 1.47 1.35L5.41 20z\"/>\n",
              "  </svg>\n",
              "      </button>\n",
              "      \n",
              "  <style>\n",
              "    .colab-df-container {\n",
              "      display:flex;\n",
              "      flex-wrap:wrap;\n",
              "      gap: 12px;\n",
              "    }\n",
              "\n",
              "    .colab-df-convert {\n",
              "      background-color: #E8F0FE;\n",
              "      border: none;\n",
              "      border-radius: 50%;\n",
              "      cursor: pointer;\n",
              "      display: none;\n",
              "      fill: #1967D2;\n",
              "      height: 32px;\n",
              "      padding: 0 0 0 0;\n",
              "      width: 32px;\n",
              "    }\n",
              "\n",
              "    .colab-df-convert:hover {\n",
              "      background-color: #E2EBFA;\n",
              "      box-shadow: 0px 1px 2px rgba(60, 64, 67, 0.3), 0px 1px 3px 1px rgba(60, 64, 67, 0.15);\n",
              "      fill: #174EA6;\n",
              "    }\n",
              "\n",
              "    [theme=dark] .colab-df-convert {\n",
              "      background-color: #3B4455;\n",
              "      fill: #D2E3FC;\n",
              "    }\n",
              "\n",
              "    [theme=dark] .colab-df-convert:hover {\n",
              "      background-color: #434B5C;\n",
              "      box-shadow: 0px 1px 3px 1px rgba(0, 0, 0, 0.15);\n",
              "      filter: drop-shadow(0px 1px 2px rgba(0, 0, 0, 0.3));\n",
              "      fill: #FFFFFF;\n",
              "    }\n",
              "  </style>\n",
              "\n",
              "      <script>\n",
              "        const buttonEl =\n",
              "          document.querySelector('#df-263a75fa-b90e-411d-8e8c-8dc5a32a91a4 button.colab-df-convert');\n",
              "        buttonEl.style.display =\n",
              "          google.colab.kernel.accessAllowed ? 'block' : 'none';\n",
              "\n",
              "        async function convertToInteractive(key) {\n",
              "          const element = document.querySelector('#df-263a75fa-b90e-411d-8e8c-8dc5a32a91a4');\n",
              "          const dataTable =\n",
              "            await google.colab.kernel.invokeFunction('convertToInteractive',\n",
              "                                                     [key], {});\n",
              "          if (!dataTable) return;\n",
              "\n",
              "          const docLinkHtml = 'Like what you see? Visit the ' +\n",
              "            '<a target=\"_blank\" href=https://colab.research.google.com/notebooks/data_table.ipynb>data table notebook</a>'\n",
              "            + ' to learn more about interactive tables.';\n",
              "          element.innerHTML = '';\n",
              "          dataTable['output_type'] = 'display_data';\n",
              "          await google.colab.output.renderOutput(dataTable, element);\n",
              "          const docLink = document.createElement('div');\n",
              "          docLink.innerHTML = docLinkHtml;\n",
              "          element.appendChild(docLink);\n",
              "        }\n",
              "      </script>\n",
              "    </div>\n",
              "  </div>\n",
              "  "
            ]
          },
          "metadata": {},
          "execution_count": 26
        }
      ]
    },
    {
      "cell_type": "markdown",
      "source": [
        "12. Split the data into training and testing"
      ],
      "metadata": {
        "id": "AUWgibPoZHxu"
      }
    },
    {
      "cell_type": "code",
      "source": [
        "from sklearn.model_selection import train_test_split\n",
        "x_train,x_test,y_train,y_test = train_test_split(x,y,test_size=0.2,random_state=0)\n",
        "x_train.shape"
      ],
      "metadata": {
        "colab": {
          "base_uri": "https://localhost:8080/"
        },
        "id": "98hOZ0KhXLsy",
        "outputId": "e3bbb744-39bb-459a-ab10-bc80a978f2b0"
      },
      "execution_count": 27,
      "outputs": [
        {
          "output_type": "execute_result",
          "data": {
            "text/plain": [
              "(160, 4)"
            ]
          },
          "metadata": {},
          "execution_count": 27
        }
      ]
    },
    {
      "cell_type": "code",
      "source": [
        "x_test.shape"
      ],
      "metadata": {
        "colab": {
          "base_uri": "https://localhost:8080/"
        },
        "id": "fukmgdMdXLvU",
        "outputId": "905f3a73-a797-4a31-e3ee-8c97058a8565"
      },
      "execution_count": 28,
      "outputs": [
        {
          "output_type": "execute_result",
          "data": {
            "text/plain": [
              "(40, 4)"
            ]
          },
          "metadata": {},
          "execution_count": 28
        }
      ]
    },
    {
      "cell_type": "code",
      "source": [
        "y_train.shape"
      ],
      "metadata": {
        "colab": {
          "base_uri": "https://localhost:8080/"
        },
        "id": "PGqNtp96XLy7",
        "outputId": "b604d6ba-db3c-451f-86b6-646d1d3fcfdc"
      },
      "execution_count": 29,
      "outputs": [
        {
          "output_type": "execute_result",
          "data": {
            "text/plain": [
              "(160,)"
            ]
          },
          "metadata": {},
          "execution_count": 29
        }
      ]
    },
    {
      "cell_type": "code",
      "source": [
        "y_test.shape"
      ],
      "metadata": {
        "colab": {
          "base_uri": "https://localhost:8080/"
        },
        "id": "snO-OoBeZSI_",
        "outputId": "9ee03a50-887c-4043-da15-785c46d35abe"
      },
      "execution_count": 30,
      "outputs": [
        {
          "output_type": "execute_result",
          "data": {
            "text/plain": [
              "(40,)"
            ]
          },
          "metadata": {},
          "execution_count": 30
        }
      ]
    },
    {
      "cell_type": "markdown",
      "source": [
        "13. Build the Model\n",
        "14. Train the Model\n",
        "15. Test the Model\n",
        "16. Measure the performance using Evaluation Metrics."
      ],
      "metadata": {
        "id": "HSZqGsgCZYcR"
      }
    },
    {
      "cell_type": "code",
      "source": [
        "from sklearn.linear_model import LogisticRegression\n",
        "model = LogisticRegression()"
      ],
      "metadata": {
        "id": "yqnFMwVlZZdG"
      },
      "execution_count": 31,
      "outputs": []
    },
    {
      "cell_type": "code",
      "source": [
        "x_train.shape"
      ],
      "metadata": {
        "colab": {
          "base_uri": "https://localhost:8080/"
        },
        "id": "uu8PTUBtZZid",
        "outputId": "b56299a5-c124-49db-d658-d7383e6b8861"
      },
      "execution_count": 32,
      "outputs": [
        {
          "output_type": "execute_result",
          "data": {
            "text/plain": [
              "(160, 4)"
            ]
          },
          "metadata": {},
          "execution_count": 32
        }
      ]
    },
    {
      "cell_type": "code",
      "source": [
        "x_test.shape"
      ],
      "metadata": {
        "colab": {
          "base_uri": "https://localhost:8080/"
        },
        "id": "pR7dpVfWZZmV",
        "outputId": "4434861d-272f-485e-c897-aac56a50aa0d"
      },
      "execution_count": 33,
      "outputs": [
        {
          "output_type": "execute_result",
          "data": {
            "text/plain": [
              "(40, 4)"
            ]
          },
          "metadata": {},
          "execution_count": 33
        }
      ]
    },
    {
      "cell_type": "code",
      "source": [
        "from sklearn.linear_model import LogisticRegression\n",
        "model = LogisticRegression()"
      ],
      "metadata": {
        "id": "Wj_jno76ZqQa"
      },
      "execution_count": 34,
      "outputs": []
    },
    {
      "cell_type": "code",
      "source": [
        "model.fit(x_train,y_train)"
      ],
      "metadata": {
        "colab": {
          "base_uri": "https://localhost:8080/"
        },
        "id": "J7kj8lgbZqUk",
        "outputId": "2a94fbf5-45f6-4718-898b-83aac5413019"
      },
      "execution_count": 35,
      "outputs": [
        {
          "output_type": "stream",
          "name": "stderr",
          "text": [
            "/usr/local/lib/python3.7/dist-packages/sklearn/linear_model/_logistic.py:818: ConvergenceWarning: lbfgs failed to converge (status=1):\n",
            "STOP: TOTAL NO. of ITERATIONS REACHED LIMIT.\n",
            "\n",
            "Increase the number of iterations (max_iter) or scale the data as shown in:\n",
            "    https://scikit-learn.org/stable/modules/preprocessing.html\n",
            "Please also refer to the documentation for alternative solver options:\n",
            "    https://scikit-learn.org/stable/modules/linear_model.html#logistic-regression\n",
            "  extra_warning_msg=_LOGISTIC_SOLVER_CONVERGENCE_MSG,\n"
          ]
        },
        {
          "output_type": "execute_result",
          "data": {
            "text/plain": [
              "LogisticRegression()"
            ]
          },
          "metadata": {},
          "execution_count": 35
        }
      ]
    },
    {
      "cell_type": "code",
      "source": [
        "train_pred = model.predict(x_train)\n",
        "train_pred"
      ],
      "metadata": {
        "colab": {
          "base_uri": "https://localhost:8080/"
        },
        "id": "ituTACNIZ1kI",
        "outputId": "48efc130-f0be-49b9-852c-c0fdf2c35c84"
      },
      "execution_count": 36,
      "outputs": [
        {
          "output_type": "execute_result",
          "data": {
            "text/plain": [
              "array([57., 35., 60., 32., 34., 35., 53., 32., 32., 32., 32., 32., 32.,\n",
              "       32., 32., 53., 53., 36., 60., 35., 32., 32., 32., 21., 32., 32.,\n",
              "       35., 39., 35., 32., 32., 32., 32., 32., 34., 32., 32., 53., 35.,\n",
              "       29., 32., 35., 34., 32., 32., 35., 53., 20., 41., 32., 35., 53.,\n",
              "       47., 35., 47., 34., 32., 32., 32., 32., 57., 32., 35., 35., 32.,\n",
              "       32., 32., 35., 32., 35., 32., 20., 20., 32., 21., 39., 21., 32.,\n",
              "       32., 20., 21., 32., 32., 35., 32., 32., 21., 32., 34., 45., 53.,\n",
              "       35., 32., 32., 39., 32., 57., 32., 32., 21., 32., 32., 35., 35.,\n",
              "       35., 21., 32., 52., 60., 32., 32., 32., 21., 53., 32., 35., 32.,\n",
              "       59., 53., 60., 32., 32., 35., 34., 29., 34., 53., 32., 32., 32.,\n",
              "       21., 32., 32., 32., 32., 34., 32., 32., 32., 21., 32., 32., 32.,\n",
              "       34., 32., 35., 35., 57., 32., 35., 32., 53., 21., 21., 32., 32.,\n",
              "       37., 32., 35., 34.])"
            ]
          },
          "metadata": {},
          "execution_count": 36
        }
      ]
    },
    {
      "cell_type": "code",
      "source": [
        "test_pred= model.predict(x_test)\n",
        "test_pred"
      ],
      "metadata": {
        "colab": {
          "base_uri": "https://localhost:8080/"
        },
        "id": "3ICku_JZZ1pn",
        "outputId": "fc76b774-11a3-4c10-e265-ceda19da5af5"
      },
      "execution_count": 37,
      "outputs": [
        {
          "output_type": "execute_result",
          "data": {
            "text/plain": [
              "array([53., 34., 32., 32., 28., 34., 21., 32., 53., 34., 35., 32., 32.,\n",
              "       34., 32., 21., 21., 34., 35., 32., 32., 29., 35., 28., 35., 29.,\n",
              "       32., 32., 32., 53., 35., 20., 34., 32., 53., 32., 32., 35., 32.,\n",
              "       32.])"
            ]
          },
          "metadata": {},
          "execution_count": 37
        }
      ]
    },
    {
      "cell_type": "code",
      "source": [
        "from sklearn.metrics import accuracy_score,confusion_matrix,classification_report,roc_curve,roc_auc_score"
      ],
      "metadata": {
        "id": "OccIj723Z1s3"
      },
      "execution_count": 38,
      "outputs": []
    },
    {
      "cell_type": "code",
      "source": [
        "accuracy_score(y_test,test_pred)"
      ],
      "metadata": {
        "colab": {
          "base_uri": "https://localhost:8080/"
        },
        "id": "k1qK66cVaFDa",
        "outputId": "a4ba13ed-fe22-460d-fd4b-8be95aa9264c"
      },
      "execution_count": 40,
      "outputs": [
        {
          "output_type": "execute_result",
          "data": {
            "text/plain": [
              "0.025"
            ]
          },
          "metadata": {},
          "execution_count": 40
        }
      ]
    },
    {
      "cell_type": "code",
      "source": [
        "accuracy_score(y_train,train_pred)"
      ],
      "metadata": {
        "colab": {
          "base_uri": "https://localhost:8080/"
        },
        "id": "N1bcIA96aFGG",
        "outputId": "d109f7e9-c8b3-4930-d938-cc3149862b8d"
      },
      "execution_count": 39,
      "outputs": [
        {
          "output_type": "execute_result",
          "data": {
            "text/plain": [
              "0.1"
            ]
          },
          "metadata": {},
          "execution_count": 39
        }
      ]
    },
    {
      "cell_type": "code",
      "source": [
        "confusion_matrix(y_test,test_pred)"
      ],
      "metadata": {
        "colab": {
          "base_uri": "https://localhost:8080/"
        },
        "id": "mZrALwtyaTse",
        "outputId": "e3fc33f2-4b78-422c-d2eb-ee9bb13946c0"
      },
      "execution_count": 41,
      "outputs": [
        {
          "output_type": "execute_result",
          "data": {
            "text/plain": [
              "array([[0, 0, 0, ..., 0, 0, 0],\n",
              "       [0, 0, 0, ..., 0, 0, 0],\n",
              "       [0, 0, 0, ..., 0, 0, 0],\n",
              "       ...,\n",
              "       [0, 0, 0, ..., 0, 0, 0],\n",
              "       [0, 0, 0, ..., 0, 0, 0],\n",
              "       [0, 0, 0, ..., 0, 0, 0]])"
            ]
          },
          "metadata": {},
          "execution_count": 41
        }
      ]
    },
    {
      "cell_type": "code",
      "source": [
        "pd.crosstab(y_test,test_pred)"
      ],
      "metadata": {
        "colab": {
          "base_uri": "https://localhost:8080/",
          "height": 990
        },
        "id": "Vv2K8jm7aT_7",
        "outputId": "3990a89a-ce87-4d29-9999-baca167e6ede"
      },
      "execution_count": 42,
      "outputs": [
        {
          "output_type": "execute_result",
          "data": {
            "text/plain": [
              "col_0  20.0  21.0  28.0  29.0  32.0  34.0  35.0  53.0\n",
              "Age                                                  \n",
              "18.0      0     1     0     0     0     0     0     0\n",
              "19.0      0     0     0     0     1     0     1     0\n",
              "22.0      0     1     0     0     0     0     0     0\n",
              "23.0      0     1     0     0     0     0     0     0\n",
              "24.0      0     0     0     0     0     0     1     0\n",
              "27.0      0     0     1     0     0     0     0     0\n",
              "28.0      0     0     0     1     0     0     0     0\n",
              "29.0      0     0     0     0     1     0     0     0\n",
              "30.0      0     0     1     0     1     0     1     0\n",
              "31.0      0     0     0     0     1     0     1     0\n",
              "35.0      0     0     0     0     1     0     1     0\n",
              "36.0      0     0     0     0     1     0     0     0\n",
              "37.0      0     0     0     0     1     0     0     0\n",
              "38.0      0     0     0     0     1     0     0     0\n",
              "39.0      0     0     0     1     0     0     0     0\n",
              "40.0      0     0     0     0     1     1     0     0\n",
              "43.0      0     0     0     0     0     1     0     0\n",
              "44.0      0     0     0     0     0     1     0     0\n",
              "46.0      0     0     0     0     1     1     0     1\n",
              "47.0      1     0     0     0     0     2     0     0\n",
              "48.0      0     0     0     0     2     0     0     0\n",
              "49.0      0     0     0     0     0     0     0     1\n",
              "52.0      0     0     0     0     0     0     0     1\n",
              "54.0      0     0     0     0     1     0     0     0\n",
              "57.0      0     0     0     0     1     0     0     0\n",
              "58.0      0     0     0     0     0     0     0     1\n",
              "59.0      0     0     0     0     1     0     0     0\n",
              "66.0      0     0     0     0     1     0     0     0\n",
              "70.0      0     0     0     0     0     0     1     0"
            ],
            "text/html": [
              "\n",
              "  <div id=\"df-0b0eb486-3421-4857-ad7d-dac3a3e554cb\">\n",
              "    <div class=\"colab-df-container\">\n",
              "      <div>\n",
              "<style scoped>\n",
              "    .dataframe tbody tr th:only-of-type {\n",
              "        vertical-align: middle;\n",
              "    }\n",
              "\n",
              "    .dataframe tbody tr th {\n",
              "        vertical-align: top;\n",
              "    }\n",
              "\n",
              "    .dataframe thead th {\n",
              "        text-align: right;\n",
              "    }\n",
              "</style>\n",
              "<table border=\"1\" class=\"dataframe\">\n",
              "  <thead>\n",
              "    <tr style=\"text-align: right;\">\n",
              "      <th>col_0</th>\n",
              "      <th>20.0</th>\n",
              "      <th>21.0</th>\n",
              "      <th>28.0</th>\n",
              "      <th>29.0</th>\n",
              "      <th>32.0</th>\n",
              "      <th>34.0</th>\n",
              "      <th>35.0</th>\n",
              "      <th>53.0</th>\n",
              "    </tr>\n",
              "    <tr>\n",
              "      <th>Age</th>\n",
              "      <th></th>\n",
              "      <th></th>\n",
              "      <th></th>\n",
              "      <th></th>\n",
              "      <th></th>\n",
              "      <th></th>\n",
              "      <th></th>\n",
              "      <th></th>\n",
              "    </tr>\n",
              "  </thead>\n",
              "  <tbody>\n",
              "    <tr>\n",
              "      <th>18.0</th>\n",
              "      <td>0</td>\n",
              "      <td>1</td>\n",
              "      <td>0</td>\n",
              "      <td>0</td>\n",
              "      <td>0</td>\n",
              "      <td>0</td>\n",
              "      <td>0</td>\n",
              "      <td>0</td>\n",
              "    </tr>\n",
              "    <tr>\n",
              "      <th>19.0</th>\n",
              "      <td>0</td>\n",
              "      <td>0</td>\n",
              "      <td>0</td>\n",
              "      <td>0</td>\n",
              "      <td>1</td>\n",
              "      <td>0</td>\n",
              "      <td>1</td>\n",
              "      <td>0</td>\n",
              "    </tr>\n",
              "    <tr>\n",
              "      <th>22.0</th>\n",
              "      <td>0</td>\n",
              "      <td>1</td>\n",
              "      <td>0</td>\n",
              "      <td>0</td>\n",
              "      <td>0</td>\n",
              "      <td>0</td>\n",
              "      <td>0</td>\n",
              "      <td>0</td>\n",
              "    </tr>\n",
              "    <tr>\n",
              "      <th>23.0</th>\n",
              "      <td>0</td>\n",
              "      <td>1</td>\n",
              "      <td>0</td>\n",
              "      <td>0</td>\n",
              "      <td>0</td>\n",
              "      <td>0</td>\n",
              "      <td>0</td>\n",
              "      <td>0</td>\n",
              "    </tr>\n",
              "    <tr>\n",
              "      <th>24.0</th>\n",
              "      <td>0</td>\n",
              "      <td>0</td>\n",
              "      <td>0</td>\n",
              "      <td>0</td>\n",
              "      <td>0</td>\n",
              "      <td>0</td>\n",
              "      <td>1</td>\n",
              "      <td>0</td>\n",
              "    </tr>\n",
              "    <tr>\n",
              "      <th>27.0</th>\n",
              "      <td>0</td>\n",
              "      <td>0</td>\n",
              "      <td>1</td>\n",
              "      <td>0</td>\n",
              "      <td>0</td>\n",
              "      <td>0</td>\n",
              "      <td>0</td>\n",
              "      <td>0</td>\n",
              "    </tr>\n",
              "    <tr>\n",
              "      <th>28.0</th>\n",
              "      <td>0</td>\n",
              "      <td>0</td>\n",
              "      <td>0</td>\n",
              "      <td>1</td>\n",
              "      <td>0</td>\n",
              "      <td>0</td>\n",
              "      <td>0</td>\n",
              "      <td>0</td>\n",
              "    </tr>\n",
              "    <tr>\n",
              "      <th>29.0</th>\n",
              "      <td>0</td>\n",
              "      <td>0</td>\n",
              "      <td>0</td>\n",
              "      <td>0</td>\n",
              "      <td>1</td>\n",
              "      <td>0</td>\n",
              "      <td>0</td>\n",
              "      <td>0</td>\n",
              "    </tr>\n",
              "    <tr>\n",
              "      <th>30.0</th>\n",
              "      <td>0</td>\n",
              "      <td>0</td>\n",
              "      <td>1</td>\n",
              "      <td>0</td>\n",
              "      <td>1</td>\n",
              "      <td>0</td>\n",
              "      <td>1</td>\n",
              "      <td>0</td>\n",
              "    </tr>\n",
              "    <tr>\n",
              "      <th>31.0</th>\n",
              "      <td>0</td>\n",
              "      <td>0</td>\n",
              "      <td>0</td>\n",
              "      <td>0</td>\n",
              "      <td>1</td>\n",
              "      <td>0</td>\n",
              "      <td>1</td>\n",
              "      <td>0</td>\n",
              "    </tr>\n",
              "    <tr>\n",
              "      <th>35.0</th>\n",
              "      <td>0</td>\n",
              "      <td>0</td>\n",
              "      <td>0</td>\n",
              "      <td>0</td>\n",
              "      <td>1</td>\n",
              "      <td>0</td>\n",
              "      <td>1</td>\n",
              "      <td>0</td>\n",
              "    </tr>\n",
              "    <tr>\n",
              "      <th>36.0</th>\n",
              "      <td>0</td>\n",
              "      <td>0</td>\n",
              "      <td>0</td>\n",
              "      <td>0</td>\n",
              "      <td>1</td>\n",
              "      <td>0</td>\n",
              "      <td>0</td>\n",
              "      <td>0</td>\n",
              "    </tr>\n",
              "    <tr>\n",
              "      <th>37.0</th>\n",
              "      <td>0</td>\n",
              "      <td>0</td>\n",
              "      <td>0</td>\n",
              "      <td>0</td>\n",
              "      <td>1</td>\n",
              "      <td>0</td>\n",
              "      <td>0</td>\n",
              "      <td>0</td>\n",
              "    </tr>\n",
              "    <tr>\n",
              "      <th>38.0</th>\n",
              "      <td>0</td>\n",
              "      <td>0</td>\n",
              "      <td>0</td>\n",
              "      <td>0</td>\n",
              "      <td>1</td>\n",
              "      <td>0</td>\n",
              "      <td>0</td>\n",
              "      <td>0</td>\n",
              "    </tr>\n",
              "    <tr>\n",
              "      <th>39.0</th>\n",
              "      <td>0</td>\n",
              "      <td>0</td>\n",
              "      <td>0</td>\n",
              "      <td>1</td>\n",
              "      <td>0</td>\n",
              "      <td>0</td>\n",
              "      <td>0</td>\n",
              "      <td>0</td>\n",
              "    </tr>\n",
              "    <tr>\n",
              "      <th>40.0</th>\n",
              "      <td>0</td>\n",
              "      <td>0</td>\n",
              "      <td>0</td>\n",
              "      <td>0</td>\n",
              "      <td>1</td>\n",
              "      <td>1</td>\n",
              "      <td>0</td>\n",
              "      <td>0</td>\n",
              "    </tr>\n",
              "    <tr>\n",
              "      <th>43.0</th>\n",
              "      <td>0</td>\n",
              "      <td>0</td>\n",
              "      <td>0</td>\n",
              "      <td>0</td>\n",
              "      <td>0</td>\n",
              "      <td>1</td>\n",
              "      <td>0</td>\n",
              "      <td>0</td>\n",
              "    </tr>\n",
              "    <tr>\n",
              "      <th>44.0</th>\n",
              "      <td>0</td>\n",
              "      <td>0</td>\n",
              "      <td>0</td>\n",
              "      <td>0</td>\n",
              "      <td>0</td>\n",
              "      <td>1</td>\n",
              "      <td>0</td>\n",
              "      <td>0</td>\n",
              "    </tr>\n",
              "    <tr>\n",
              "      <th>46.0</th>\n",
              "      <td>0</td>\n",
              "      <td>0</td>\n",
              "      <td>0</td>\n",
              "      <td>0</td>\n",
              "      <td>1</td>\n",
              "      <td>1</td>\n",
              "      <td>0</td>\n",
              "      <td>1</td>\n",
              "    </tr>\n",
              "    <tr>\n",
              "      <th>47.0</th>\n",
              "      <td>1</td>\n",
              "      <td>0</td>\n",
              "      <td>0</td>\n",
              "      <td>0</td>\n",
              "      <td>0</td>\n",
              "      <td>2</td>\n",
              "      <td>0</td>\n",
              "      <td>0</td>\n",
              "    </tr>\n",
              "    <tr>\n",
              "      <th>48.0</th>\n",
              "      <td>0</td>\n",
              "      <td>0</td>\n",
              "      <td>0</td>\n",
              "      <td>0</td>\n",
              "      <td>2</td>\n",
              "      <td>0</td>\n",
              "      <td>0</td>\n",
              "      <td>0</td>\n",
              "    </tr>\n",
              "    <tr>\n",
              "      <th>49.0</th>\n",
              "      <td>0</td>\n",
              "      <td>0</td>\n",
              "      <td>0</td>\n",
              "      <td>0</td>\n",
              "      <td>0</td>\n",
              "      <td>0</td>\n",
              "      <td>0</td>\n",
              "      <td>1</td>\n",
              "    </tr>\n",
              "    <tr>\n",
              "      <th>52.0</th>\n",
              "      <td>0</td>\n",
              "      <td>0</td>\n",
              "      <td>0</td>\n",
              "      <td>0</td>\n",
              "      <td>0</td>\n",
              "      <td>0</td>\n",
              "      <td>0</td>\n",
              "      <td>1</td>\n",
              "    </tr>\n",
              "    <tr>\n",
              "      <th>54.0</th>\n",
              "      <td>0</td>\n",
              "      <td>0</td>\n",
              "      <td>0</td>\n",
              "      <td>0</td>\n",
              "      <td>1</td>\n",
              "      <td>0</td>\n",
              "      <td>0</td>\n",
              "      <td>0</td>\n",
              "    </tr>\n",
              "    <tr>\n",
              "      <th>57.0</th>\n",
              "      <td>0</td>\n",
              "      <td>0</td>\n",
              "      <td>0</td>\n",
              "      <td>0</td>\n",
              "      <td>1</td>\n",
              "      <td>0</td>\n",
              "      <td>0</td>\n",
              "      <td>0</td>\n",
              "    </tr>\n",
              "    <tr>\n",
              "      <th>58.0</th>\n",
              "      <td>0</td>\n",
              "      <td>0</td>\n",
              "      <td>0</td>\n",
              "      <td>0</td>\n",
              "      <td>0</td>\n",
              "      <td>0</td>\n",
              "      <td>0</td>\n",
              "      <td>1</td>\n",
              "    </tr>\n",
              "    <tr>\n",
              "      <th>59.0</th>\n",
              "      <td>0</td>\n",
              "      <td>0</td>\n",
              "      <td>0</td>\n",
              "      <td>0</td>\n",
              "      <td>1</td>\n",
              "      <td>0</td>\n",
              "      <td>0</td>\n",
              "      <td>0</td>\n",
              "    </tr>\n",
              "    <tr>\n",
              "      <th>66.0</th>\n",
              "      <td>0</td>\n",
              "      <td>0</td>\n",
              "      <td>0</td>\n",
              "      <td>0</td>\n",
              "      <td>1</td>\n",
              "      <td>0</td>\n",
              "      <td>0</td>\n",
              "      <td>0</td>\n",
              "    </tr>\n",
              "    <tr>\n",
              "      <th>70.0</th>\n",
              "      <td>0</td>\n",
              "      <td>0</td>\n",
              "      <td>0</td>\n",
              "      <td>0</td>\n",
              "      <td>0</td>\n",
              "      <td>0</td>\n",
              "      <td>1</td>\n",
              "      <td>0</td>\n",
              "    </tr>\n",
              "  </tbody>\n",
              "</table>\n",
              "</div>\n",
              "      <button class=\"colab-df-convert\" onclick=\"convertToInteractive('df-0b0eb486-3421-4857-ad7d-dac3a3e554cb')\"\n",
              "              title=\"Convert this dataframe to an interactive table.\"\n",
              "              style=\"display:none;\">\n",
              "        \n",
              "  <svg xmlns=\"http://www.w3.org/2000/svg\" height=\"24px\"viewBox=\"0 0 24 24\"\n",
              "       width=\"24px\">\n",
              "    <path d=\"M0 0h24v24H0V0z\" fill=\"none\"/>\n",
              "    <path d=\"M18.56 5.44l.94 2.06.94-2.06 2.06-.94-2.06-.94-.94-2.06-.94 2.06-2.06.94zm-11 1L8.5 8.5l.94-2.06 2.06-.94-2.06-.94L8.5 2.5l-.94 2.06-2.06.94zm10 10l.94 2.06.94-2.06 2.06-.94-2.06-.94-.94-2.06-.94 2.06-2.06.94z\"/><path d=\"M17.41 7.96l-1.37-1.37c-.4-.4-.92-.59-1.43-.59-.52 0-1.04.2-1.43.59L10.3 9.45l-7.72 7.72c-.78.78-.78 2.05 0 2.83L4 21.41c.39.39.9.59 1.41.59.51 0 1.02-.2 1.41-.59l7.78-7.78 2.81-2.81c.8-.78.8-2.07 0-2.86zM5.41 20L4 18.59l7.72-7.72 1.47 1.35L5.41 20z\"/>\n",
              "  </svg>\n",
              "      </button>\n",
              "      \n",
              "  <style>\n",
              "    .colab-df-container {\n",
              "      display:flex;\n",
              "      flex-wrap:wrap;\n",
              "      gap: 12px;\n",
              "    }\n",
              "\n",
              "    .colab-df-convert {\n",
              "      background-color: #E8F0FE;\n",
              "      border: none;\n",
              "      border-radius: 50%;\n",
              "      cursor: pointer;\n",
              "      display: none;\n",
              "      fill: #1967D2;\n",
              "      height: 32px;\n",
              "      padding: 0 0 0 0;\n",
              "      width: 32px;\n",
              "    }\n",
              "\n",
              "    .colab-df-convert:hover {\n",
              "      background-color: #E2EBFA;\n",
              "      box-shadow: 0px 1px 2px rgba(60, 64, 67, 0.3), 0px 1px 3px 1px rgba(60, 64, 67, 0.15);\n",
              "      fill: #174EA6;\n",
              "    }\n",
              "\n",
              "    [theme=dark] .colab-df-convert {\n",
              "      background-color: #3B4455;\n",
              "      fill: #D2E3FC;\n",
              "    }\n",
              "\n",
              "    [theme=dark] .colab-df-convert:hover {\n",
              "      background-color: #434B5C;\n",
              "      box-shadow: 0px 1px 3px 1px rgba(0, 0, 0, 0.15);\n",
              "      filter: drop-shadow(0px 1px 2px rgba(0, 0, 0, 0.3));\n",
              "      fill: #FFFFFF;\n",
              "    }\n",
              "  </style>\n",
              "\n",
              "      <script>\n",
              "        const buttonEl =\n",
              "          document.querySelector('#df-0b0eb486-3421-4857-ad7d-dac3a3e554cb button.colab-df-convert');\n",
              "        buttonEl.style.display =\n",
              "          google.colab.kernel.accessAllowed ? 'block' : 'none';\n",
              "\n",
              "        async function convertToInteractive(key) {\n",
              "          const element = document.querySelector('#df-0b0eb486-3421-4857-ad7d-dac3a3e554cb');\n",
              "          const dataTable =\n",
              "            await google.colab.kernel.invokeFunction('convertToInteractive',\n",
              "                                                     [key], {});\n",
              "          if (!dataTable) return;\n",
              "\n",
              "          const docLinkHtml = 'Like what you see? Visit the ' +\n",
              "            '<a target=\"_blank\" href=https://colab.research.google.com/notebooks/data_table.ipynb>data table notebook</a>'\n",
              "            + ' to learn more about interactive tables.';\n",
              "          element.innerHTML = '';\n",
              "          dataTable['output_type'] = 'display_data';\n",
              "          await google.colab.output.renderOutput(dataTable, element);\n",
              "          const docLink = document.createElement('div');\n",
              "          docLink.innerHTML = docLinkHtml;\n",
              "          element.appendChild(docLink);\n",
              "        }\n",
              "      </script>\n",
              "    </div>\n",
              "  </div>\n",
              "  "
            ]
          },
          "metadata": {},
          "execution_count": 42
        }
      ]
    },
    {
      "cell_type": "code",
      "source": [
        "print(classification_report(y_test,test_pred))"
      ],
      "metadata": {
        "colab": {
          "base_uri": "https://localhost:8080/"
        },
        "id": "Lo_opYWAadbe",
        "outputId": "00d86752-147d-4f88-d4f1-80e75b5167f5"
      },
      "execution_count": 43,
      "outputs": [
        {
          "output_type": "stream",
          "name": "stdout",
          "text": [
            "              precision    recall  f1-score   support\n",
            "\n",
            "        18.0       0.00      0.00      0.00         1\n",
            "        19.0       0.00      0.00      0.00         2\n",
            "        20.0       0.00      0.00      0.00         0\n",
            "        21.0       0.00      0.00      0.00         0\n",
            "        22.0       0.00      0.00      0.00         1\n",
            "        23.0       0.00      0.00      0.00         1\n",
            "        24.0       0.00      0.00      0.00         1\n",
            "        27.0       0.00      0.00      0.00         1\n",
            "        28.0       0.00      0.00      0.00         1\n",
            "        29.0       0.00      0.00      0.00         1\n",
            "        30.0       0.00      0.00      0.00         3\n",
            "        31.0       0.00      0.00      0.00         2\n",
            "        32.0       0.00      0.00      0.00         0\n",
            "        34.0       0.00      0.00      0.00         0\n",
            "        35.0       0.17      0.50      0.25         2\n",
            "        36.0       0.00      0.00      0.00         1\n",
            "        37.0       0.00      0.00      0.00         1\n",
            "        38.0       0.00      0.00      0.00         1\n",
            "        39.0       0.00      0.00      0.00         1\n",
            "        40.0       0.00      0.00      0.00         2\n",
            "        43.0       0.00      0.00      0.00         1\n",
            "        44.0       0.00      0.00      0.00         1\n",
            "        46.0       0.00      0.00      0.00         3\n",
            "        47.0       0.00      0.00      0.00         3\n",
            "        48.0       0.00      0.00      0.00         2\n",
            "        49.0       0.00      0.00      0.00         1\n",
            "        52.0       0.00      0.00      0.00         1\n",
            "        53.0       0.00      0.00      0.00         0\n",
            "        54.0       0.00      0.00      0.00         1\n",
            "        57.0       0.00      0.00      0.00         1\n",
            "        58.0       0.00      0.00      0.00         1\n",
            "        59.0       0.00      0.00      0.00         1\n",
            "        66.0       0.00      0.00      0.00         1\n",
            "        70.0       0.00      0.00      0.00         1\n",
            "\n",
            "    accuracy                           0.03        40\n",
            "   macro avg       0.00      0.01      0.01        40\n",
            "weighted avg       0.01      0.03      0.01        40\n",
            "\n"
          ]
        },
        {
          "output_type": "stream",
          "name": "stderr",
          "text": [
            "/usr/local/lib/python3.7/dist-packages/sklearn/metrics/_classification.py:1318: UndefinedMetricWarning: Precision and F-score are ill-defined and being set to 0.0 in labels with no predicted samples. Use `zero_division` parameter to control this behavior.\n",
            "  _warn_prf(average, modifier, msg_start, len(result))\n",
            "/usr/local/lib/python3.7/dist-packages/sklearn/metrics/_classification.py:1318: UndefinedMetricWarning: Recall and F-score are ill-defined and being set to 0.0 in labels with no true samples. Use `zero_division` parameter to control this behavior.\n",
            "  _warn_prf(average, modifier, msg_start, len(result))\n",
            "/usr/local/lib/python3.7/dist-packages/sklearn/metrics/_classification.py:1318: UndefinedMetricWarning: Precision and F-score are ill-defined and being set to 0.0 in labels with no predicted samples. Use `zero_division` parameter to control this behavior.\n",
            "  _warn_prf(average, modifier, msg_start, len(result))\n",
            "/usr/local/lib/python3.7/dist-packages/sklearn/metrics/_classification.py:1318: UndefinedMetricWarning: Recall and F-score are ill-defined and being set to 0.0 in labels with no true samples. Use `zero_division` parameter to control this behavior.\n",
            "  _warn_prf(average, modifier, msg_start, len(result))\n",
            "/usr/local/lib/python3.7/dist-packages/sklearn/metrics/_classification.py:1318: UndefinedMetricWarning: Precision and F-score are ill-defined and being set to 0.0 in labels with no predicted samples. Use `zero_division` parameter to control this behavior.\n",
            "  _warn_prf(average, modifier, msg_start, len(result))\n",
            "/usr/local/lib/python3.7/dist-packages/sklearn/metrics/_classification.py:1318: UndefinedMetricWarning: Recall and F-score are ill-defined and being set to 0.0 in labels with no true samples. Use `zero_division` parameter to control this behavior.\n",
            "  _warn_prf(average, modifier, msg_start, len(result))\n"
          ]
        }
      ]
    },
    {
      "cell_type": "code",
      "source": [],
      "metadata": {
        "id": "HgqW-pj2adfh"
      },
      "execution_count": null,
      "outputs": []
    }
  ]
}